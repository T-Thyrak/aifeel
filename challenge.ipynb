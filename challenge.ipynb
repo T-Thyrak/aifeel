{
 "cells": [
  {
   "cell_type": "code",
   "execution_count": 1,
   "metadata": {},
   "outputs": [],
   "source": [
    "%load_ext autoreload\n",
    "%autoreload 2"
   ]
  },
  {
   "cell_type": "code",
   "execution_count": 2,
   "metadata": {},
   "outputs": [],
   "source": [
    "from rich import print\n",
    "from aifeel.util import read_corpus\n",
    "from aifeel.util.preprocess import preprocess_text, preprocess_corpus\n",
    "from aifeel.util.feature_extraction import extract_features, feature_to_vector\n",
    "import numpy as np"
   ]
  },
  {
   "cell_type": "code",
   "execution_count": 18,
   "metadata": {},
   "outputs": [],
   "source": [
    "import dill\n",
    "\n",
    "# Load the model from the file\n",
    "with open(\"export/model/NNClassifier/model.dill\", \"rb\") as f:\n",
    "    loaded_model = dill.load(f)\n",
    "\n",
    "with open(\"export/model/SVM/svm_model.dill\", \"rb\") as f:\n",
    "    svm_model = dill.load(f)\n",
    "\n",
    "with open(\"export/model/NNClassifier/vectorizer.dill\", \"rb\") as f:\n",
    "    cv = dill.load(f)\n"
   ]
  },
  {
   "cell_type": "code",
   "execution_count": 4,
   "metadata": {},
   "outputs": [],
   "source": [
    "negative_words, positive_words = set(read_corpus(\"negative-words\")), set(\n",
    "    read_corpus(\"positive-words\")\n",
    ")"
   ]
  },
  {
   "cell_type": "code",
   "execution_count": 22,
   "metadata": {},
   "outputs": [],
   "source": [
    "def vectorizer(review):\n",
    "    result = cv.transform([review])\n",
    "    return result.toarray()[0].tolist() "
   ]
  },
  {
   "cell_type": "code",
   "execution_count": 23,
   "metadata": {},
   "outputs": [],
   "source": [
    "def convet_to_vector(clean_corpus):\n",
    "    features = map(lambda t: extract_features(t, positive_words, negative_words, vectorizer=vectorizer), clean_corpus)\n",
    "    feature_vectors = list(map(lambda f: feature_to_vector(f, vectorizer=True), features))\n",
    "    return feature_vectors"
   ]
  },
  {
   "cell_type": "code",
   "execution_count": 28,
   "metadata": {},
   "outputs": [
    {
     "name": "stdout",
     "output_type": "stream",
     "text": [
      "1/1 [==============================] - 0s 50ms/step\n",
      "1/1 [==============================] - 0s 34ms/step\n"
     ]
    },
    {
     "data": {
      "text/html": [
       "<pre style=\"white-space:pre;overflow-x:auto;line-height:normal;font-family:Menlo,'DejaVu Sans Mono',consolas,'Courier New',monospace\">Number of sentences: <span style=\"color: #008080; text-decoration-color: #008080; font-weight: bold\">24</span>\n",
       "</pre>\n"
      ],
      "text/plain": [
       "Number of sentences: \u001b[1;36m24\u001b[0m\n"
      ]
     },
     "metadata": {},
     "output_type": "display_data"
    },
    {
     "data": {
      "text/html": [
       "<pre style=\"white-space:pre;overflow-x:auto;line-height:normal;font-family:Menlo,'DejaVu Sans Mono',consolas,'Courier New',monospace\">Result: Positive\n",
       "Probability <span style=\"font-weight: bold\">(</span>Negative, Positive<span style=\"font-weight: bold\">)</span>: <span style=\"font-weight: bold\">[</span><span style=\"color: #008080; text-decoration-color: #008080; font-weight: bold\">4.1633844e-04</span> <span style=\"color: #008080; text-decoration-color: #008080; font-weight: bold\">9.9958366e-01</span><span style=\"font-weight: bold\">]</span>\n",
       "</pre>\n"
      ],
      "text/plain": [
       "Result: Positive\n",
       "Probability \u001b[1m(\u001b[0mNegative, Positive\u001b[1m)\u001b[0m: \u001b[1m[\u001b[0m\u001b[1;36m4.1633844e-04\u001b[0m \u001b[1;36m9.9958366e-01\u001b[0m\u001b[1m]\u001b[0m\n"
      ]
     },
     "metadata": {},
     "output_type": "display_data"
    },
    {
     "data": {
      "text/html": [
       "<pre style=\"white-space:pre;overflow-x:auto;line-height:normal;font-family:Menlo,'DejaVu Sans Mono',consolas,'Courier New',monospace\">Result: Negative\n",
       "Probability <span style=\"font-weight: bold\">(</span>Negative, Positive<span style=\"font-weight: bold\">)</span>: <span style=\"font-weight: bold\">[</span><span style=\"color: #008080; text-decoration-color: #008080; font-weight: bold\">9.999217e-01</span> <span style=\"color: #008080; text-decoration-color: #008080; font-weight: bold\">7.834304e-05</span><span style=\"font-weight: bold\">]</span>\n",
       "</pre>\n"
      ],
      "text/plain": [
       "Result: Negative\n",
       "Probability \u001b[1m(\u001b[0mNegative, Positive\u001b[1m)\u001b[0m: \u001b[1m[\u001b[0m\u001b[1;36m9.999217e-01\u001b[0m \u001b[1;36m7.834304e-05\u001b[0m\u001b[1m]\u001b[0m\n"
      ]
     },
     "metadata": {},
     "output_type": "display_data"
    },
    {
     "data": {
      "text/html": [
       "<pre style=\"white-space:pre;overflow-x:auto;line-height:normal;font-family:Menlo,'DejaVu Sans Mono',consolas,'Courier New',monospace\">Result: Positive\n",
       "Probability <span style=\"font-weight: bold\">(</span>Negative, Positive<span style=\"font-weight: bold\">)</span>: <span style=\"font-weight: bold\">[</span><span style=\"color: #008080; text-decoration-color: #008080; font-weight: bold\">0.16756767</span> <span style=\"color: #008080; text-decoration-color: #008080; font-weight: bold\">0.8324323</span> <span style=\"font-weight: bold\">]</span>\n",
       "</pre>\n"
      ],
      "text/plain": [
       "Result: Positive\n",
       "Probability \u001b[1m(\u001b[0mNegative, Positive\u001b[1m)\u001b[0m: \u001b[1m[\u001b[0m\u001b[1;36m0.16756767\u001b[0m \u001b[1;36m0.8324323\u001b[0m \u001b[1m]\u001b[0m\n"
      ]
     },
     "metadata": {},
     "output_type": "display_data"
    },
    {
     "data": {
      "text/html": [
       "<pre style=\"white-space:pre;overflow-x:auto;line-height:normal;font-family:Menlo,'DejaVu Sans Mono',consolas,'Courier New',monospace\">Result: Negative\n",
       "Probability <span style=\"font-weight: bold\">(</span>Negative, Positive<span style=\"font-weight: bold\">)</span>: <span style=\"font-weight: bold\">[</span><span style=\"color: #008080; text-decoration-color: #008080; font-weight: bold\">0.94145435</span> <span style=\"color: #008080; text-decoration-color: #008080; font-weight: bold\">0.05854563</span><span style=\"font-weight: bold\">]</span>\n",
       "</pre>\n"
      ],
      "text/plain": [
       "Result: Negative\n",
       "Probability \u001b[1m(\u001b[0mNegative, Positive\u001b[1m)\u001b[0m: \u001b[1m[\u001b[0m\u001b[1;36m0.94145435\u001b[0m \u001b[1;36m0.05854563\u001b[0m\u001b[1m]\u001b[0m\n"
      ]
     },
     "metadata": {},
     "output_type": "display_data"
    },
    {
     "data": {
      "text/html": [
       "<pre style=\"white-space:pre;overflow-x:auto;line-height:normal;font-family:Menlo,'DejaVu Sans Mono',consolas,'Courier New',monospace\">Result: Positive\n",
       "Probability <span style=\"font-weight: bold\">(</span>Negative, Positive<span style=\"font-weight: bold\">)</span>: <span style=\"font-weight: bold\">[</span><span style=\"color: #008080; text-decoration-color: #008080; font-weight: bold\">0.4354319</span> <span style=\"color: #008080; text-decoration-color: #008080; font-weight: bold\">0.5645681</span><span style=\"font-weight: bold\">]</span>\n",
       "</pre>\n"
      ],
      "text/plain": [
       "Result: Positive\n",
       "Probability \u001b[1m(\u001b[0mNegative, Positive\u001b[1m)\u001b[0m: \u001b[1m[\u001b[0m\u001b[1;36m0.4354319\u001b[0m \u001b[1;36m0.5645681\u001b[0m\u001b[1m]\u001b[0m\n"
      ]
     },
     "metadata": {},
     "output_type": "display_data"
    },
    {
     "data": {
      "text/html": [
       "<pre style=\"white-space:pre;overflow-x:auto;line-height:normal;font-family:Menlo,'DejaVu Sans Mono',consolas,'Courier New',monospace\">Result: Negative\n",
       "Probability <span style=\"font-weight: bold\">(</span>Negative, Positive<span style=\"font-weight: bold\">)</span>: <span style=\"font-weight: bold\">[</span><span style=\"color: #008080; text-decoration-color: #008080; font-weight: bold\">9.9997991e-01</span> <span style=\"color: #008080; text-decoration-color: #008080; font-weight: bold\">2.0063957e-05</span><span style=\"font-weight: bold\">]</span>\n",
       "</pre>\n"
      ],
      "text/plain": [
       "Result: Negative\n",
       "Probability \u001b[1m(\u001b[0mNegative, Positive\u001b[1m)\u001b[0m: \u001b[1m[\u001b[0m\u001b[1;36m9.9997991e-01\u001b[0m \u001b[1;36m2.0063957e-05\u001b[0m\u001b[1m]\u001b[0m\n"
      ]
     },
     "metadata": {},
     "output_type": "display_data"
    },
    {
     "data": {
      "text/html": [
       "<pre style=\"white-space:pre;overflow-x:auto;line-height:normal;font-family:Menlo,'DejaVu Sans Mono',consolas,'Courier New',monospace\">Result: Negative\n",
       "Probability <span style=\"font-weight: bold\">(</span>Negative, Positive<span style=\"font-weight: bold\">)</span>: <span style=\"font-weight: bold\">[</span><span style=\"color: #008080; text-decoration-color: #008080; font-weight: bold\">0.9831611</span>  <span style=\"color: #008080; text-decoration-color: #008080; font-weight: bold\">0.01683893</span><span style=\"font-weight: bold\">]</span>\n",
       "</pre>\n"
      ],
      "text/plain": [
       "Result: Negative\n",
       "Probability \u001b[1m(\u001b[0mNegative, Positive\u001b[1m)\u001b[0m: \u001b[1m[\u001b[0m\u001b[1;36m0.9831611\u001b[0m  \u001b[1;36m0.01683893\u001b[0m\u001b[1m]\u001b[0m\n"
      ]
     },
     "metadata": {},
     "output_type": "display_data"
    },
    {
     "data": {
      "text/html": [
       "<pre style=\"white-space:pre;overflow-x:auto;line-height:normal;font-family:Menlo,'DejaVu Sans Mono',consolas,'Courier New',monospace\">Result: Positive\n",
       "Probability <span style=\"font-weight: bold\">(</span>Negative, Positive<span style=\"font-weight: bold\">)</span>: <span style=\"font-weight: bold\">[</span><span style=\"color: #008080; text-decoration-color: #008080; font-weight: bold\">0.00233746</span> <span style=\"color: #008080; text-decoration-color: #008080; font-weight: bold\">0.99766254</span><span style=\"font-weight: bold\">]</span>\n",
       "</pre>\n"
      ],
      "text/plain": [
       "Result: Positive\n",
       "Probability \u001b[1m(\u001b[0mNegative, Positive\u001b[1m)\u001b[0m: \u001b[1m[\u001b[0m\u001b[1;36m0.00233746\u001b[0m \u001b[1;36m0.99766254\u001b[0m\u001b[1m]\u001b[0m\n"
      ]
     },
     "metadata": {},
     "output_type": "display_data"
    },
    {
     "data": {
      "text/html": [
       "<pre style=\"white-space:pre;overflow-x:auto;line-height:normal;font-family:Menlo,'DejaVu Sans Mono',consolas,'Courier New',monospace\">Result: Negative\n",
       "Probability <span style=\"font-weight: bold\">(</span>Negative, Positive<span style=\"font-weight: bold\">)</span>: <span style=\"font-weight: bold\">[</span><span style=\"color: #008080; text-decoration-color: #008080; font-weight: bold\">9.9998569e-01</span> <span style=\"color: #008080; text-decoration-color: #008080; font-weight: bold\">1.4329181e-05</span><span style=\"font-weight: bold\">]</span>\n",
       "</pre>\n"
      ],
      "text/plain": [
       "Result: Negative\n",
       "Probability \u001b[1m(\u001b[0mNegative, Positive\u001b[1m)\u001b[0m: \u001b[1m[\u001b[0m\u001b[1;36m9.9998569e-01\u001b[0m \u001b[1;36m1.4329181e-05\u001b[0m\u001b[1m]\u001b[0m\n"
      ]
     },
     "metadata": {},
     "output_type": "display_data"
    },
    {
     "data": {
      "text/html": [
       "<pre style=\"white-space:pre;overflow-x:auto;line-height:normal;font-family:Menlo,'DejaVu Sans Mono',consolas,'Courier New',monospace\">Result: Positive\n",
       "Probability <span style=\"font-weight: bold\">(</span>Negative, Positive<span style=\"font-weight: bold\">)</span>: <span style=\"font-weight: bold\">[</span><span style=\"color: #008080; text-decoration-color: #008080; font-weight: bold\">0.00346714</span> <span style=\"color: #008080; text-decoration-color: #008080; font-weight: bold\">0.99653286</span><span style=\"font-weight: bold\">]</span>\n",
       "</pre>\n"
      ],
      "text/plain": [
       "Result: Positive\n",
       "Probability \u001b[1m(\u001b[0mNegative, Positive\u001b[1m)\u001b[0m: \u001b[1m[\u001b[0m\u001b[1;36m0.00346714\u001b[0m \u001b[1;36m0.99653286\u001b[0m\u001b[1m]\u001b[0m\n"
      ]
     },
     "metadata": {},
     "output_type": "display_data"
    },
    {
     "data": {
      "text/html": [
       "<pre style=\"white-space:pre;overflow-x:auto;line-height:normal;font-family:Menlo,'DejaVu Sans Mono',consolas,'Courier New',monospace\">Result: Positive\n",
       "Probability <span style=\"font-weight: bold\">(</span>Negative, Positive<span style=\"font-weight: bold\">)</span>: <span style=\"font-weight: bold\">[</span><span style=\"color: #008080; text-decoration-color: #008080; font-weight: bold\">9.5367432e-07</span> <span style=\"color: #008080; text-decoration-color: #008080; font-weight: bold\">9.9999905e-01</span><span style=\"font-weight: bold\">]</span>\n",
       "</pre>\n"
      ],
      "text/plain": [
       "Result: Positive\n",
       "Probability \u001b[1m(\u001b[0mNegative, Positive\u001b[1m)\u001b[0m: \u001b[1m[\u001b[0m\u001b[1;36m9.5367432e-07\u001b[0m \u001b[1;36m9.9999905e-01\u001b[0m\u001b[1m]\u001b[0m\n"
      ]
     },
     "metadata": {},
     "output_type": "display_data"
    },
    {
     "data": {
      "text/html": [
       "<pre style=\"white-space:pre;overflow-x:auto;line-height:normal;font-family:Menlo,'DejaVu Sans Mono',consolas,'Courier New',monospace\">Result: Negative\n",
       "Probability <span style=\"font-weight: bold\">(</span>Negative, Positive<span style=\"font-weight: bold\">)</span>: <span style=\"font-weight: bold\">[</span><span style=\"color: #008080; text-decoration-color: #008080; font-weight: bold\">0.7395928</span>  <span style=\"color: #008080; text-decoration-color: #008080; font-weight: bold\">0.26040718</span><span style=\"font-weight: bold\">]</span>\n",
       "</pre>\n"
      ],
      "text/plain": [
       "Result: Negative\n",
       "Probability \u001b[1m(\u001b[0mNegative, Positive\u001b[1m)\u001b[0m: \u001b[1m[\u001b[0m\u001b[1;36m0.7395928\u001b[0m  \u001b[1;36m0.26040718\u001b[0m\u001b[1m]\u001b[0m\n"
      ]
     },
     "metadata": {},
     "output_type": "display_data"
    },
    {
     "data": {
      "text/html": [
       "<pre style=\"white-space:pre;overflow-x:auto;line-height:normal;font-family:Menlo,'DejaVu Sans Mono',consolas,'Courier New',monospace\">Result: Negative\n",
       "Probability <span style=\"font-weight: bold\">(</span>Negative, Positive<span style=\"font-weight: bold\">)</span>: <span style=\"font-weight: bold\">[</span><span style=\"color: #008080; text-decoration-color: #008080; font-weight: bold\">0.99844253</span> <span style=\"color: #008080; text-decoration-color: #008080; font-weight: bold\">0.00155746</span><span style=\"font-weight: bold\">]</span>\n",
       "</pre>\n"
      ],
      "text/plain": [
       "Result: Negative\n",
       "Probability \u001b[1m(\u001b[0mNegative, Positive\u001b[1m)\u001b[0m: \u001b[1m[\u001b[0m\u001b[1;36m0.99844253\u001b[0m \u001b[1;36m0.00155746\u001b[0m\u001b[1m]\u001b[0m\n"
      ]
     },
     "metadata": {},
     "output_type": "display_data"
    },
    {
     "data": {
      "text/html": [
       "<pre style=\"white-space:pre;overflow-x:auto;line-height:normal;font-family:Menlo,'DejaVu Sans Mono',consolas,'Courier New',monospace\">Result: Positive\n",
       "Probability <span style=\"font-weight: bold\">(</span>Negative, Positive<span style=\"font-weight: bold\">)</span>: <span style=\"font-weight: bold\">[</span><span style=\"color: #008080; text-decoration-color: #008080; font-weight: bold\">8.8804960e-04</span> <span style=\"color: #008080; text-decoration-color: #008080; font-weight: bold\">9.9911195e-01</span><span style=\"font-weight: bold\">]</span>\n",
       "</pre>\n"
      ],
      "text/plain": [
       "Result: Positive\n",
       "Probability \u001b[1m(\u001b[0mNegative, Positive\u001b[1m)\u001b[0m: \u001b[1m[\u001b[0m\u001b[1;36m8.8804960e-04\u001b[0m \u001b[1;36m9.9911195e-01\u001b[0m\u001b[1m]\u001b[0m\n"
      ]
     },
     "metadata": {},
     "output_type": "display_data"
    },
    {
     "data": {
      "text/html": [
       "<pre style=\"white-space:pre;overflow-x:auto;line-height:normal;font-family:Menlo,'DejaVu Sans Mono',consolas,'Courier New',monospace\">Result: Positive\n",
       "Probability <span style=\"font-weight: bold\">(</span>Negative, Positive<span style=\"font-weight: bold\">)</span>: <span style=\"font-weight: bold\">[</span><span style=\"color: #008080; text-decoration-color: #008080; font-weight: bold\">0.13960052</span> <span style=\"color: #008080; text-decoration-color: #008080; font-weight: bold\">0.8603995</span> <span style=\"font-weight: bold\">]</span>\n",
       "</pre>\n"
      ],
      "text/plain": [
       "Result: Positive\n",
       "Probability \u001b[1m(\u001b[0mNegative, Positive\u001b[1m)\u001b[0m: \u001b[1m[\u001b[0m\u001b[1;36m0.13960052\u001b[0m \u001b[1;36m0.8603995\u001b[0m \u001b[1m]\u001b[0m\n"
      ]
     },
     "metadata": {},
     "output_type": "display_data"
    },
    {
     "data": {
      "text/html": [
       "<pre style=\"white-space:pre;overflow-x:auto;line-height:normal;font-family:Menlo,'DejaVu Sans Mono',consolas,'Courier New',monospace\">Result: Negative\n",
       "Probability <span style=\"font-weight: bold\">(</span>Negative, Positive<span style=\"font-weight: bold\">)</span>: <span style=\"font-weight: bold\">[</span><span style=\"color: #008080; text-decoration-color: #008080; font-weight: bold\">9.9999440e-01</span> <span style=\"color: #008080; text-decoration-color: #008080; font-weight: bold\">5.6221393e-06</span><span style=\"font-weight: bold\">]</span>\n",
       "</pre>\n"
      ],
      "text/plain": [
       "Result: Negative\n",
       "Probability \u001b[1m(\u001b[0mNegative, Positive\u001b[1m)\u001b[0m: \u001b[1m[\u001b[0m\u001b[1;36m9.9999440e-01\u001b[0m \u001b[1;36m5.6221393e-06\u001b[0m\u001b[1m]\u001b[0m\n"
      ]
     },
     "metadata": {},
     "output_type": "display_data"
    },
    {
     "data": {
      "text/html": [
       "<pre style=\"white-space:pre;overflow-x:auto;line-height:normal;font-family:Menlo,'DejaVu Sans Mono',consolas,'Courier New',monospace\">Result: Negative\n",
       "Probability <span style=\"font-weight: bold\">(</span>Negative, Positive<span style=\"font-weight: bold\">)</span>: <span style=\"font-weight: bold\">[</span><span style=\"color: #008080; text-decoration-color: #008080; font-weight: bold\">9.9995375e-01</span> <span style=\"color: #008080; text-decoration-color: #008080; font-weight: bold\">4.6240100e-05</span><span style=\"font-weight: bold\">]</span>\n",
       "</pre>\n"
      ],
      "text/plain": [
       "Result: Negative\n",
       "Probability \u001b[1m(\u001b[0mNegative, Positive\u001b[1m)\u001b[0m: \u001b[1m[\u001b[0m\u001b[1;36m9.9995375e-01\u001b[0m \u001b[1;36m4.6240100e-05\u001b[0m\u001b[1m]\u001b[0m\n"
      ]
     },
     "metadata": {},
     "output_type": "display_data"
    },
    {
     "data": {
      "text/html": [
       "<pre style=\"white-space:pre;overflow-x:auto;line-height:normal;font-family:Menlo,'DejaVu Sans Mono',consolas,'Courier New',monospace\">Result: Negative\n",
       "Probability <span style=\"font-weight: bold\">(</span>Negative, Positive<span style=\"font-weight: bold\">)</span>: <span style=\"font-weight: bold\">[</span><span style=\"color: #008080; text-decoration-color: #008080; font-weight: bold\">9.9999994e-01</span> <span style=\"color: #008080; text-decoration-color: #008080; font-weight: bold\">7.0322848e-08</span><span style=\"font-weight: bold\">]</span>\n",
       "</pre>\n"
      ],
      "text/plain": [
       "Result: Negative\n",
       "Probability \u001b[1m(\u001b[0mNegative, Positive\u001b[1m)\u001b[0m: \u001b[1m[\u001b[0m\u001b[1;36m9.9999994e-01\u001b[0m \u001b[1;36m7.0322848e-08\u001b[0m\u001b[1m]\u001b[0m\n"
      ]
     },
     "metadata": {},
     "output_type": "display_data"
    },
    {
     "data": {
      "text/html": [
       "<pre style=\"white-space:pre;overflow-x:auto;line-height:normal;font-family:Menlo,'DejaVu Sans Mono',consolas,'Courier New',monospace\">Result: Negative\n",
       "Probability <span style=\"font-weight: bold\">(</span>Negative, Positive<span style=\"font-weight: bold\">)</span>: <span style=\"font-weight: bold\">[</span><span style=\"color: #008080; text-decoration-color: #008080; font-weight: bold\">0.93243515</span> <span style=\"color: #008080; text-decoration-color: #008080; font-weight: bold\">0.06756485</span><span style=\"font-weight: bold\">]</span>\n",
       "</pre>\n"
      ],
      "text/plain": [
       "Result: Negative\n",
       "Probability \u001b[1m(\u001b[0mNegative, Positive\u001b[1m)\u001b[0m: \u001b[1m[\u001b[0m\u001b[1;36m0.93243515\u001b[0m \u001b[1;36m0.06756485\u001b[0m\u001b[1m]\u001b[0m\n"
      ]
     },
     "metadata": {},
     "output_type": "display_data"
    },
    {
     "data": {
      "text/html": [
       "<pre style=\"white-space:pre;overflow-x:auto;line-height:normal;font-family:Menlo,'DejaVu Sans Mono',consolas,'Courier New',monospace\">Result: Negative\n",
       "Probability <span style=\"font-weight: bold\">(</span>Negative, Positive<span style=\"font-weight: bold\">)</span>: <span style=\"font-weight: bold\">[</span><span style=\"color: #008080; text-decoration-color: #008080; font-weight: bold\">9.9982619e-01</span> <span style=\"color: #008080; text-decoration-color: #008080; font-weight: bold\">1.7383647e-04</span><span style=\"font-weight: bold\">]</span>\n",
       "</pre>\n"
      ],
      "text/plain": [
       "Result: Negative\n",
       "Probability \u001b[1m(\u001b[0mNegative, Positive\u001b[1m)\u001b[0m: \u001b[1m[\u001b[0m\u001b[1;36m9.9982619e-01\u001b[0m \u001b[1;36m1.7383647e-04\u001b[0m\u001b[1m]\u001b[0m\n"
      ]
     },
     "metadata": {},
     "output_type": "display_data"
    },
    {
     "data": {
      "text/html": [
       "<pre style=\"white-space:pre;overflow-x:auto;line-height:normal;font-family:Menlo,'DejaVu Sans Mono',consolas,'Courier New',monospace\">Result: Negative\n",
       "Probability <span style=\"font-weight: bold\">(</span>Negative, Positive<span style=\"font-weight: bold\">)</span>: <span style=\"font-weight: bold\">[</span><span style=\"color: #008080; text-decoration-color: #008080; font-weight: bold\">0.98411876</span> <span style=\"color: #008080; text-decoration-color: #008080; font-weight: bold\">0.01588124</span><span style=\"font-weight: bold\">]</span>\n",
       "</pre>\n"
      ],
      "text/plain": [
       "Result: Negative\n",
       "Probability \u001b[1m(\u001b[0mNegative, Positive\u001b[1m)\u001b[0m: \u001b[1m[\u001b[0m\u001b[1;36m0.98411876\u001b[0m \u001b[1;36m0.01588124\u001b[0m\u001b[1m]\u001b[0m\n"
      ]
     },
     "metadata": {},
     "output_type": "display_data"
    },
    {
     "data": {
      "text/html": [
       "<pre style=\"white-space:pre;overflow-x:auto;line-height:normal;font-family:Menlo,'DejaVu Sans Mono',consolas,'Courier New',monospace\">Result: Positive\n",
       "Probability <span style=\"font-weight: bold\">(</span>Negative, Positive<span style=\"font-weight: bold\">)</span>: <span style=\"font-weight: bold\">[</span><span style=\"color: #008080; text-decoration-color: #008080; font-weight: bold\">0.08335251</span> <span style=\"color: #008080; text-decoration-color: #008080; font-weight: bold\">0.9166475</span> <span style=\"font-weight: bold\">]</span>\n",
       "</pre>\n"
      ],
      "text/plain": [
       "Result: Positive\n",
       "Probability \u001b[1m(\u001b[0mNegative, Positive\u001b[1m)\u001b[0m: \u001b[1m[\u001b[0m\u001b[1;36m0.08335251\u001b[0m \u001b[1;36m0.9166475\u001b[0m \u001b[1m]\u001b[0m\n"
      ]
     },
     "metadata": {},
     "output_type": "display_data"
    },
    {
     "data": {
      "text/html": [
       "<pre style=\"white-space:pre;overflow-x:auto;line-height:normal;font-family:Menlo,'DejaVu Sans Mono',consolas,'Courier New',monospace\">Result: Negative\n",
       "Probability <span style=\"font-weight: bold\">(</span>Negative, Positive<span style=\"font-weight: bold\">)</span>: <span style=\"font-weight: bold\">[</span><span style=\"color: #008080; text-decoration-color: #008080; font-weight: bold\">9.9997580e-01</span> <span style=\"color: #008080; text-decoration-color: #008080; font-weight: bold\">2.4222203e-05</span><span style=\"font-weight: bold\">]</span>\n",
       "</pre>\n"
      ],
      "text/plain": [
       "Result: Negative\n",
       "Probability \u001b[1m(\u001b[0mNegative, Positive\u001b[1m)\u001b[0m: \u001b[1m[\u001b[0m\u001b[1;36m9.9997580e-01\u001b[0m \u001b[1;36m2.4222203e-05\u001b[0m\u001b[1m]\u001b[0m\n"
      ]
     },
     "metadata": {},
     "output_type": "display_data"
    },
    {
     "data": {
      "text/html": [
       "<pre style=\"white-space:pre;overflow-x:auto;line-height:normal;font-family:Menlo,'DejaVu Sans Mono',consolas,'Courier New',monospace\">Result: Positive\n",
       "Probability <span style=\"font-weight: bold\">(</span>Negative, Positive<span style=\"font-weight: bold\">)</span>: <span style=\"font-weight: bold\">[</span><span style=\"color: #008080; text-decoration-color: #008080; font-weight: bold\">0.2483781</span> <span style=\"color: #008080; text-decoration-color: #008080; font-weight: bold\">0.7516219</span><span style=\"font-weight: bold\">]</span>\n",
       "</pre>\n"
      ],
      "text/plain": [
       "Result: Positive\n",
       "Probability \u001b[1m(\u001b[0mNegative, Positive\u001b[1m)\u001b[0m: \u001b[1m[\u001b[0m\u001b[1;36m0.2483781\u001b[0m \u001b[1;36m0.7516219\u001b[0m\u001b[1m]\u001b[0m\n"
      ]
     },
     "metadata": {},
     "output_type": "display_data"
    }
   ],
   "source": [
    "def classify_reviews(file_name,model, output_file_name = 'result_testing_challenge.txt'):\n",
    "    # read challenge file\n",
    "    reviews = read_corpus(file_name)\n",
    "    # preprocess text\n",
    "    clean_reviews = preprocess_corpus(reviews)\n",
    "    # initailize feature extraction technique\n",
    "    X = np.array(convet_to_vector(clean_reviews))\n",
    "\n",
    "    predictions = model.predict(X)\n",
    "    prob = model.predict_proba(X)\n",
    "    mapping = {\n",
    "        0: \"Negative\",\n",
    "        1: \"Positive\"\n",
    "    }\n",
    "    \n",
    "    print(f\"Number of sentences: {len(predictions)}\")\n",
    "    with open(output_file_name, 'w') as output_file:\n",
    "        for prediction, prob in zip(predictions, prob):\n",
    "            print(f\"Result: {mapping[prediction]}\\nProbability (Negative, Positive): {prob}\")\n",
    "            output_file.write(f\"{prediction}\\n\")\n",
    "\n",
    "classify_reviews('testing-challeng', model=loaded_model)"
   ]
  }
 ],
 "metadata": {
  "kernelspec": {
   "display_name": "Python 3",
   "language": "python",
   "name": "python3"
  },
  "language_info": {
   "codemirror_mode": {
    "name": "ipython",
    "version": 3
   },
   "file_extension": ".py",
   "mimetype": "text/x-python",
   "name": "python",
   "nbconvert_exporter": "python",
   "pygments_lexer": "ipython3",
   "version": "3.10.10"
  }
 },
 "nbformat": 4,
 "nbformat_minor": 2
}
