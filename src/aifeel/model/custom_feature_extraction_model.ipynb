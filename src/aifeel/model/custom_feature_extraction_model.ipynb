{
 "cells": [
  {
   "cell_type": "code",
   "execution_count": 1,
   "metadata": {},
   "outputs": [],
   "source": [
    "# from aifeel.util import gen_dataframe, read_corpus\n",
    "# from aifeel.util.preprocess import preprocess_text\n",
    "# from aifeel.util.feature_extraction import extract_features\n",
    "\n",
    "# negative_corpus, positive_corpus = read_corpus(\"negative-reviews\"), read_corpus(\n",
    "#     \"positive-reviews\"\n",
    "# )\n",
    "# negative_words, positive_words = read_corpus(\"negative-words\"), read_corpus(\n",
    "#     \"positive-words\"\n",
    "# )\n",
    "\n",
    "# df = gen_dataframe(positive_corpus, negative_corpus, random_state=42)\n",
    "# df[\"clean_review\"] = df[\"review\"].apply(preprocess_text)\n",
    "\n",
    "# # Convert lists to sets\n",
    "# positive_words = set(read_corpus(\"positive-words\"))\n",
    "# negative_words = set(read_corpus(\"negative-words\"))\n",
    "\n",
    "# # Apply feature extraction to each review\n",
    "# df['features'] = df['clean_review'].apply(lambda review: extract_features(review, positive_words, negative_words))\n",
    "\n",
    "# print(df[\"features\"].head(5))\n",
    "\n"
   ]
  },
  {
   "cell_type": "code",
   "execution_count": 2,
   "metadata": {},
   "outputs": [
    {
     "name": "stdout",
     "output_type": "stream",
     "text": [
      "Best parameters for LogisticRegression: {'C': 0.01}\n",
      "Best parameters for DecisionTreeClassifier: {'max_depth': 10}\n",
      "Best parameters for RandomForestClassifier: {'max_depth': 10, 'n_estimators': 50}\n"
     ]
    }
   ],
   "source": [
    "from aifeel.util import gen_dataframe, read_corpus\n",
    "from aifeel.util.preprocess import preprocess_text\n",
    "from aifeel.util.feature_extraction import extract_features\n",
    "from sklearn.feature_extraction import DictVectorizer\n",
    "from sklearn.model_selection import train_test_split, GridSearchCV\n",
    "from sklearn.linear_model import LogisticRegression\n",
    "from sklearn.tree import DecisionTreeClassifier\n",
    "from sklearn.ensemble import RandomForestClassifier\n",
    "\n",
    "# Read the corpora and word lists\n",
    "negative_corpus, positive_corpus = read_corpus(\"negative-reviews\"), read_corpus(\"positive-reviews\")\n",
    "negative_words, positive_words = set(read_corpus(\"negative-words\")), set(read_corpus(\"positive-words\"))\n",
    "\n",
    "# Generate the dataframe and preprocess the reviews\n",
    "df = gen_dataframe(positive_corpus, negative_corpus, random_state=42)\n",
    "df[\"clean_review\"] = df[\"review\"].apply(preprocess_text)\n",
    "\n",
    "# Extract features from each review\n",
    "df['features'] = df['clean_review'].apply(lambda review: extract_features(review, positive_words, negative_words))\n",
    "\n",
    "# Convert the features to a format that can be used by the models\n",
    "vec = DictVectorizer()\n",
    "X = vec.fit_transform(df['features'].tolist()).toarray()  # Changed this line\n",
    "y = df['tag']\n",
    "\n",
    "# Split the data into training and testing sets\n",
    "X_train, X_test, y_train, y_test = train_test_split(X, y, test_size=0.2, random_state=42)\n",
    "\n",
    "# Define the models and their parameter grids\n",
    "models = [LogisticRegression(), DecisionTreeClassifier(), RandomForestClassifier()]\n",
    "param_grids = [{'C': [0.001, 0.01, 0.1, 1, 10, 100, 1000]}, \n",
    "               {'max_depth': [10, 20, 30, 40, 50]}, \n",
    "               {'n_estimators': [10, 50, 100, 200], 'max_depth': [10, 20, 30, 40, 50]}\n",
    "               ]\n",
    "\n",
    "# Train and tune the models\n",
    "for model, param_grid in zip(models, param_grids):\n",
    "    clf = GridSearchCV(model, param_grid)\n",
    "    clf.fit(X_train, y_train)\n",
    "    print(f\"Best parameters for {model.__class__.__name__}: {clf.best_params_}\")\n"
   ]
  },
  {
   "cell_type": "code",
   "execution_count": 3,
   "metadata": {},
   "outputs": [
    {
     "name": "stdout",
     "output_type": "stream",
     "text": [
      "Classification report for LogisticRegression:\n",
      "\n",
      "              precision    recall  f1-score   support\n",
      "\n",
      "           0       0.80      0.88      0.83      4003\n",
      "           1       0.86      0.77      0.82      3997\n",
      "\n",
      "    accuracy                           0.83      8000\n",
      "   macro avg       0.83      0.83      0.83      8000\n",
      "weighted avg       0.83      0.83      0.83      8000\n",
      "\n",
      "Classification report for DecisionTreeClassifier:\n",
      "\n",
      "              precision    recall  f1-score   support\n",
      "\n",
      "           0       0.80      0.86      0.83      4003\n",
      "           1       0.85      0.79      0.82      3997\n",
      "\n",
      "    accuracy                           0.82      8000\n",
      "   macro avg       0.83      0.82      0.82      8000\n",
      "weighted avg       0.83      0.82      0.82      8000\n",
      "\n",
      "Classification report for RandomForestClassifier:\n",
      "\n",
      "              precision    recall  f1-score   support\n",
      "\n",
      "           0       0.80      0.86      0.83      4003\n",
      "           1       0.85      0.79      0.82      3997\n",
      "\n",
      "    accuracy                           0.82      8000\n",
      "   macro avg       0.83      0.82      0.82      8000\n",
      "weighted avg       0.83      0.82      0.82      8000\n",
      "\n"
     ]
    }
   ],
   "source": [
    "from sklearn.metrics import classification_report\n",
    "\n",
    "# Define the models with their best parameters\n",
    "models_best_params = [LogisticRegression(C=0.01), \n",
    "                      DecisionTreeClassifier(max_depth=10), \n",
    "                      RandomForestClassifier(max_depth=10, n_estimators=50)]\n",
    "\n",
    "# Train the models with the best parameters and display the classification report\n",
    "for model in models_best_params:\n",
    "    model.fit(X_train, y_train)\n",
    "    y_pred = model.predict(X_test)\n",
    "    print(f\"Classification report for {model.__class__.__name__}:\\n\")\n",
    "    print(classification_report(y_test, y_pred))"
   ]
  }
 ],
 "metadata": {
  "kernelspec": {
   "display_name": "Python 3",
   "language": "python",
   "name": "python3"
  },
  "language_info": {
   "codemirror_mode": {
    "name": "ipython",
    "version": 3
   },
   "file_extension": ".py",
   "mimetype": "text/x-python",
   "name": "python",
   "nbconvert_exporter": "python",
   "pygments_lexer": "ipython3",
   "version": "3.10.12"
  }
 },
 "nbformat": 4,
 "nbformat_minor": 2
}
