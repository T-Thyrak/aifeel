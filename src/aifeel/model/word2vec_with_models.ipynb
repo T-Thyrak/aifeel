{
 "cells": [
  {
   "cell_type": "code",
   "execution_count": 1,
   "metadata": {},
   "outputs": [
    {
     "name": "stdout",
     "output_type": "stream",
     "text": [
      "Defaulting to user installation because normal site-packages is not writeable\n",
      "Requirement already satisfied: gensim in /home/daro/.local/lib/python3.10/site-packages (4.3.2)\n",
      "Requirement already satisfied: numpy>=1.18.5 in /home/daro/.local/lib/python3.10/site-packages (from gensim) (1.24.3)\n",
      "Requirement already satisfied: smart-open>=1.8.1 in /home/daro/.local/lib/python3.10/site-packages (from gensim) (7.0.1)\n",
      "Requirement already satisfied: scipy>=1.7.0 in /home/daro/.local/lib/python3.10/site-packages (from gensim) (1.10.1)\n",
      "Requirement already satisfied: wrapt in /home/daro/.local/lib/python3.10/site-packages (from smart-open>=1.8.1->gensim) (1.15.0)\n"
     ]
    }
   ],
   "source": [
    "!pip install gensim"
   ]
  },
  {
   "cell_type": "code",
   "execution_count": 2,
   "metadata": {},
   "outputs": [],
   "source": [
    "from aifeel.util import gen_dataframe, read_corpus\n",
    "from aifeel.util.preprocess import preprocess_text\n",
    "\n",
    "# Read the corpora and word lists\n",
    "negative_corpus, positive_corpus = read_corpus(\"negative-reviews\"), read_corpus(\"positive-reviews\")\n",
    "negative_words, positive_words = set(read_corpus(\"negative-words\")), set(read_corpus(\"positive-words\"))\n",
    "\n",
    "# Generate the dataframe and preprocess the reviews\n",
    "df = gen_dataframe(positive_corpus, negative_corpus, random_state=42)\n",
    "df[\"clean_review\"] = df[\"review\"].apply(preprocess_text)"
   ]
  },
  {
   "cell_type": "code",
   "execution_count": 3,
   "metadata": {},
   "outputs": [
    {
     "data": {
      "text/plain": [
       "Index(['tag', 'review', 'clean_review'], dtype='object')"
      ]
     },
     "execution_count": 3,
     "metadata": {},
     "output_type": "execute_result"
    }
   ],
   "source": [
    "df.columns"
   ]
  },
  {
   "cell_type": "code",
   "execution_count": 4,
   "metadata": {},
   "outputs": [
    {
     "data": {
      "text/plain": [
       "0                                                     none\n",
       "1        color internet ringtones camera w flash charge...\n",
       "2        small screen low battery life upgraded game me...\n",
       "3                         near photo perfect print quality\n",
       "4                                       short battery life\n",
       "                               ...                        \n",
       "39995                             view screen pocket sized\n",
       "39996    style speaker phone voice recorder two way dir...\n",
       "39997                                                 none\n",
       "39998                 image quality good zoom good battery\n",
       "39999                           price good quality picture\n",
       "Name: clean_review, Length: 40000, dtype: object"
      ]
     },
     "execution_count": 4,
     "metadata": {},
     "output_type": "execute_result"
    }
   ],
   "source": [
    "df['clean_review']"
   ]
  },
  {
   "cell_type": "code",
   "execution_count": 5,
   "metadata": {},
   "outputs": [
    {
     "name": "stderr",
     "output_type": "stream",
     "text": [
      "/usr/lib/python3/dist-packages/paramiko/transport.py:237: CryptographyDeprecationWarning: Blowfish has been deprecated and will be removed in a future release\n",
      "  \"class\": algorithms.Blowfish,\n"
     ]
    }
   ],
   "source": [
    "import gensim\n",
    "from gensim.utils import simple_preprocess\n",
    "import numpy as np\n",
    "from sklearn.model_selection import train_test_split\n"
   ]
  },
  {
   "cell_type": "code",
   "execution_count": 6,
   "metadata": {},
   "outputs": [],
   "source": [
    "words = [simple_preprocess(review) for review in df['clean_review']]"
   ]
  },
  {
   "cell_type": "code",
   "execution_count": 7,
   "metadata": {},
   "outputs": [],
   "source": [
    "w2v_model = gensim.models.Word2Vec(words, vector_size=100, window=5, min_count=1, workers=4)"
   ]
  },
  {
   "cell_type": "code",
   "execution_count": 8,
   "metadata": {},
   "outputs": [],
   "source": [
    "def avg_word2vec(doc, model):\n",
    "    # remove out-of-vocabulary words\n",
    "    doc = [word for word in doc if word in model.wv.index_to_key]\n",
    "    \n",
    "    if len(doc)==0:\n",
    "        return np.zeros(model.vector_size)\n",
    "    else:\n",
    "        return np.mean(model.wv[doc], axis=0)"
   ]
  },
  {
   "cell_type": "code",
   "execution_count": 9,
   "metadata": {},
   "outputs": [],
   "source": [
    "df['avg_word2vec'] = df['clean_review'].apply(lambda review: avg_word2vec(simple_preprocess(review), w2v_model))"
   ]
  },
  {
   "cell_type": "code",
   "execution_count": 10,
   "metadata": {},
   "outputs": [],
   "source": [
    "y = df['tag']"
   ]
  },
  {
   "cell_type": "code",
   "execution_count": 11,
   "metadata": {},
   "outputs": [],
   "source": [
    "X_train, X_test, y_train, y_test = train_test_split(df['avg_word2vec'].tolist(), y, test_size=0.20, random_state=42)"
   ]
  },
  {
   "cell_type": "code",
   "execution_count": 12,
   "metadata": {},
   "outputs": [],
   "source": [
    "# from sklearn.model_selection import GridSearchCV\n",
    "# from sklearn.linear_model import LogisticRegression\n",
    "# from sklearn.tree import DecisionTreeClassifier\n",
    "# from sklearn.ensemble import RandomForestClassifier\n",
    "\n",
    "# # Define the models and their parameter grids\n",
    "# models = [LogisticRegression(), DecisionTreeClassifier(), RandomForestClassifier()]\n",
    "# param_grids = [{'C': [0.001, 0.01, 0.1, 1, 10, 100, 1000]}, \n",
    "#                {'max_depth': [10, 20, 30, 40, 50]}, \n",
    "#                {'n_estimators': [10, 50, 100, 200], 'max_depth': [10, 20, 30, 40, 50]}\n",
    "#               ]\n",
    "\n",
    "# # Train and tune the models\n",
    "# for model, param_grid in zip(models, param_grids):\n",
    "#     clf = GridSearchCV(model, param_grid, cv=5)\n",
    "#     clf.fit(X_train, y_train)\n",
    "#     print(f\"Best parameters for {model.__class__.__name__}: {clf.best_params_}\")\n"
   ]
  },
  {
   "cell_type": "markdown",
   "metadata": {},
   "source": [
    "Best parametor :\n",
    "logist regression: 100 <br>\n",
    "Dt: Max_depth: 10 <br>\n",
    "RandomForestClassifier: {'max_depth': 30, 'n_estimators': 200} <br>"
   ]
  },
  {
   "cell_type": "code",
   "execution_count": 13,
   "metadata": {},
   "outputs": [],
   "source": [
    "from sklearn.linear_model import LogisticRegression\n",
    "from sklearn.tree import DecisionTreeClassifier\n",
    "from sklearn.svm import SVC\n",
    "from sklearn.ensemble import RandomForestClassifier\n",
    "from sklearn.metrics import classification_report"
   ]
  },
  {
   "cell_type": "code",
   "execution_count": 14,
   "metadata": {},
   "outputs": [],
   "source": [
    "def train_and_evaluate_model(model, model_name, X_train, y_train, X_test, y_test):\n",
    "    model.fit(X_train, y_train)\n",
    "    predictions = model.predict(X_test)\n",
    "    print(f\"{model_name} Classification Report:\")\n",
    "    print(classification_report(y_test, predictions))"
   ]
  },
  {
   "cell_type": "code",
   "execution_count": 15,
   "metadata": {},
   "outputs": [],
   "source": [
    "models = {\n",
    "    \"Logistic Regression\": LogisticRegression(C=100),\n",
    "    \"Decision Tree\": DecisionTreeClassifier(max_depth=10),\n",
    "    \"Random Forest\": RandomForestClassifier(n_estimators=200, max_depth=30),\n",
    "    \"SVC\": SVC(probability=True),\n",
    "}"
   ]
  },
  {
   "cell_type": "code",
   "execution_count": 16,
   "metadata": {},
   "outputs": [
    {
     "name": "stderr",
     "output_type": "stream",
     "text": [
      "/home/daro/.local/lib/python3.10/site-packages/sklearn/linear_model/_logistic.py:458: ConvergenceWarning: lbfgs failed to converge (status=1):\n",
      "STOP: TOTAL NO. of ITERATIONS REACHED LIMIT.\n",
      "\n",
      "Increase the number of iterations (max_iter) or scale the data as shown in:\n",
      "    https://scikit-learn.org/stable/modules/preprocessing.html\n",
      "Please also refer to the documentation for alternative solver options:\n",
      "    https://scikit-learn.org/stable/modules/linear_model.html#logistic-regression\n",
      "  n_iter_i = _check_optimize_result(\n"
     ]
    },
    {
     "name": "stdout",
     "output_type": "stream",
     "text": [
      "Logistic Regression Classification Report:\n",
      "              precision    recall  f1-score   support\n",
      "\n",
      "           0       0.87      0.89      0.88      4003\n",
      "           1       0.88      0.86      0.87      3997\n",
      "\n",
      "    accuracy                           0.87      8000\n",
      "   macro avg       0.88      0.87      0.87      8000\n",
      "weighted avg       0.88      0.87      0.87      8000\n",
      "\n",
      "Decision Tree Classification Report:\n",
      "              precision    recall  f1-score   support\n",
      "\n",
      "           0       0.86      0.86      0.86      4003\n",
      "           1       0.86      0.86      0.86      3997\n",
      "\n",
      "    accuracy                           0.86      8000\n",
      "   macro avg       0.86      0.86      0.86      8000\n",
      "weighted avg       0.86      0.86      0.86      8000\n",
      "\n",
      "Random Forest Classification Report:\n",
      "              precision    recall  f1-score   support\n",
      "\n",
      "           0       0.88      0.91      0.89      4003\n",
      "           1       0.90      0.88      0.89      3997\n",
      "\n",
      "    accuracy                           0.89      8000\n",
      "   macro avg       0.89      0.89      0.89      8000\n",
      "weighted avg       0.89      0.89      0.89      8000\n",
      "\n",
      "SVC Classification Report:\n",
      "              precision    recall  f1-score   support\n",
      "\n",
      "           0       0.88      0.89      0.88      4003\n",
      "           1       0.89      0.87      0.88      3997\n",
      "\n",
      "    accuracy                           0.88      8000\n",
      "   macro avg       0.88      0.88      0.88      8000\n",
      "weighted avg       0.88      0.88      0.88      8000\n",
      "\n"
     ]
    }
   ],
   "source": [
    "for model_name, model in models.items():\n",
    "    train_and_evaluate_model(model, model_name, X_train, y_train, X_test, y_test)"
   ]
  },
  {
   "cell_type": "code",
   "execution_count": 24,
   "metadata": {},
   "outputs": [],
   "source": [
    "def predict_review(model, reviews, w2v_model):\n",
    "    clean_reviews = [preprocess_text(review) for review in reviews]\n",
    "    word_vectors = [avg_word2vec(simple_preprocess(review), w2v_model) for review in clean_reviews]\n",
    "    predictions = model.predict(word_vectors)\n",
    "    probabilities = model.predict_proba(word_vectors)\n",
    "    print(clean_reviews)\n",
    "    for review, pred, prob in zip(reviews, predictions, probabilities):\n",
    "        sentiment = 'Positive' if pred == \"1\" else 'Negative'\n",
    "        print(f\"Review: {review} ({sentiment})\\nProbability (Negative, Positive): {prob}\\n\")"
   ]
  },
  {
   "cell_type": "code",
   "execution_count": 27,
   "metadata": {},
   "outputs": [
    {
     "name": "stdout",
     "output_type": "stream",
     "text": [
      "Logistic Regression Predictions:\n",
      "['lol bro awesome i buy shoe']\n",
      "Review: lol bro that's awesome, where can i buy that shoes ? (Negative)\n",
      "Probability (Negative, Positive): [0.62927843 0.37072157]\n",
      "\n",
      "Decision Tree Predictions:\n",
      "['lol bro awesome i buy shoe']\n",
      "Review: lol bro that's awesome, where can i buy that shoes ? (Negative)\n",
      "Probability (Negative, Positive): [0.79518072 0.20481928]\n",
      "\n",
      "Random Forest Predictions:\n",
      "['lol bro awesome i buy shoe']\n",
      "Review: lol bro that's awesome, where can i buy that shoes ? (Negative)\n",
      "Probability (Negative, Positive): [0.625 0.375]\n",
      "\n",
      "SVC Predictions:\n",
      "['lol bro awesome i buy shoe']\n",
      "Review: lol bro that's awesome, where can i buy that shoes ? (Negative)\n",
      "Probability (Negative, Positive): [0.69680068 0.30319932]\n",
      "\n"
     ]
    }
   ],
   "source": [
    "reviews = [\"lol bro that's awesome, where can i buy that shoes ?\"]\n",
    "\n",
    "# Predict the probabilities for each model\n",
    "for model_name, model in models.items():\n",
    "    print(f\"{model_name} Predictions:\")\n",
    "    predict_review(model, reviews, w2v_model)"
   ]
  }
 ],
 "metadata": {
  "kernelspec": {
   "display_name": "Python 3",
   "language": "python",
   "name": "python3"
  },
  "language_info": {
   "codemirror_mode": {
    "name": "ipython",
    "version": 3
   },
   "file_extension": ".py",
   "mimetype": "text/x-python",
   "name": "python",
   "nbconvert_exporter": "python",
   "pygments_lexer": "ipython3",
   "version": "3.10.12"
  }
 },
 "nbformat": 4,
 "nbformat_minor": 2
}
