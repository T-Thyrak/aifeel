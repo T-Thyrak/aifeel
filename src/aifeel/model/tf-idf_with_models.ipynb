{
 "cells": [
  {
   "cell_type": "code",
   "execution_count": 1,
   "metadata": {},
   "outputs": [],
   "source": [
    "from aifeel.util import gen_dataframe, read_corpus\n",
    "from aifeel.util.preprocess import preprocess_text\n",
    "from sklearn.feature_extraction.text import TfidfVectorizer\n",
    "from sklearn.linear_model import LogisticRegression\n",
    "from sklearn.tree import DecisionTreeClassifier\n",
    "from sklearn.ensemble import RandomForestClassifier\n",
    "from sklearn.metrics import classification_report\n",
    "from sklearn.model_selection import train_test_split\n",
    "from sklearn.naive_bayes import MultinomialNB\n",
    "from sklearn.model_selection import GridSearchCV\n",
    "import numpy as np\n",
    "\n"
   ]
  },
  {
   "cell_type": "code",
   "execution_count": 2,
   "metadata": {},
   "outputs": [],
   "source": [
    "# Read the corpora and word lists\n",
    "negative_corpus, positive_corpus = read_corpus(\"negative-reviews\"), read_corpus(\"positive-reviews\")\n",
    "negative_words, positive_words = set(read_corpus(\"negative-words\")), set(read_corpus(\"positive-words\"))\n",
    "\n",
    "# Generate the dataframe and preprocess the reviews\n",
    "df = gen_dataframe(positive_corpus, negative_corpus, random_state=42)\n",
    "df[\"clean_review\"] = df[\"review\"].apply(preprocess_text)"
   ]
  },
  {
   "cell_type": "code",
   "execution_count": 3,
   "metadata": {},
   "outputs": [
    {
     "data": {
      "text/plain": [
       "0                                                 none\n",
       "1    color internet ringtones camera w flash charge...\n",
       "2    small screen low battery life upgraded game me...\n",
       "3                     near photo perfect print quality\n",
       "4                                   short battery life\n",
       "Name: clean_review, dtype: object"
      ]
     },
     "execution_count": 3,
     "metadata": {},
     "output_type": "execute_result"
    }
   ],
   "source": [
    "df['clean_review'].head(5)"
   ]
  },
  {
   "cell_type": "code",
   "execution_count": 4,
   "metadata": {},
   "outputs": [
    {
     "name": "stdout",
     "output_type": "stream",
     "text": [
      "There are 761 rows with 'none' in the clean_review column.\n"
     ]
    }
   ],
   "source": [
    "none_count = df[df[\"clean_review\"] == \"none\"].shape[0]\n",
    "print(f\"There are {none_count} rows with 'none' in the clean_review column.\")"
   ]
  },
  {
   "cell_type": "code",
   "execution_count": 5,
   "metadata": {},
   "outputs": [],
   "source": [
    "df = df[df[\"clean_review\"] != \"none\"]"
   ]
  },
  {
   "cell_type": "code",
   "execution_count": 6,
   "metadata": {},
   "outputs": [
    {
     "data": {
      "text/plain": [
       "1    color internet ringtones camera w flash charge...\n",
       "2    small screen low battery life upgraded game me...\n",
       "3                     near photo perfect print quality\n",
       "4                                   short battery life\n",
       "5                             le perfect photo quality\n",
       "Name: clean_review, dtype: object"
      ]
     },
     "execution_count": 6,
     "metadata": {},
     "output_type": "execute_result"
    }
   ],
   "source": [
    "df['clean_review'].head(5)"
   ]
  },
  {
   "cell_type": "code",
   "execution_count": 7,
   "metadata": {},
   "outputs": [],
   "source": [
    "def count_sentiment_words(review, sentiment_words):\n",
    "    words = review.split()\n",
    "    return sum(1 for word in words if word in sentiment_words)"
   ]
  },
  {
   "cell_type": "code",
   "execution_count": 8,
   "metadata": {},
   "outputs": [],
   "source": [
    "df['positive_word_count'] = df['clean_review'].apply(lambda review: count_sentiment_words(review, positive_words))\n",
    "df['negative_word_count'] = df['clean_review'].apply(lambda review: count_sentiment_words(review, negative_words))"
   ]
  },
  {
   "cell_type": "code",
   "execution_count": 9,
   "metadata": {},
   "outputs": [],
   "source": [
    "train_df, test_df = train_test_split(df, test_size=0.2, random_state=42)"
   ]
  },
  {
   "cell_type": "code",
   "execution_count": 10,
   "metadata": {},
   "outputs": [],
   "source": [
    "X_train, y_train = train_df.drop('tag', axis=1), train_df['tag']\n",
    "X_test, y_test = test_df.drop('tag', axis=1), test_df['tag']"
   ]
  },
  {
   "cell_type": "code",
   "execution_count": 11,
   "metadata": {},
   "outputs": [],
   "source": [
    "#apply tf-idf\n",
    "vectorizer = TfidfVectorizer(ngram_range=(1, 2))\n",
    "X_train_tfidf = vectorizer.fit_transform(X_train['clean_review'])\n",
    "X_test_tfidf = vectorizer.transform(X_test['clean_review'])"
   ]
  },
  {
   "cell_type": "code",
   "execution_count": 12,
   "metadata": {},
   "outputs": [
    {
     "name": "stdout",
     "output_type": "stream",
     "text": [
      "['00' '00 cost' '00 dollar' ... 'zoon total' 'zzooomm' 'zzooomm overall']\n",
      "[[0. 0. 0. ... 0. 0. 0.]\n",
      " [0. 0. 0. ... 0. 0. 0.]\n",
      " [0. 0. 0. ... 0. 0. 0.]\n",
      " ...\n",
      " [0. 0. 0. ... 0. 0. 0.]\n",
      " [0. 0. 0. ... 0. 0. 0.]\n",
      " [0. 0. 0. ... 0. 0. 0.]]\n"
     ]
    }
   ],
   "source": [
    "print(vectorizer.get_feature_names_out())\n",
    "print(X_test_tfidf.toarray())"
   ]
  },
  {
   "cell_type": "markdown",
   "metadata": {},
   "source": [
    "### uncomment this code if you want to concatenate the positive and ngative words count feature with the tfidf but that would be computing cost "
   ]
  },
  {
   "cell_type": "code",
   "execution_count": 13,
   "metadata": {},
   "outputs": [],
   "source": [
    "from scipy.sparse import hstack\n",
    "# Concatenate the TF-IDF features with the sentiment word count features\n",
    "X_train_features = hstack([X_train_tfidf, X_train[['positive_word_count', 'negative_word_count']].values])\n",
    "X_test_features = hstack([X_test_tfidf, X_test[['positive_word_count', 'negative_word_count']].values])"
   ]
  },
  {
   "cell_type": "code",
   "execution_count": null,
   "metadata": {},
   "outputs": [],
   "source": []
  },
  {
   "cell_type": "code",
   "execution_count": 14,
   "metadata": {},
   "outputs": [],
   "source": [
    "# # Define the hyperparameters\n",
    "# hyperparameters = {\n",
    "#     \"LogisticRegression\": {\"C\": [0.1, 1, 10, 100]},\n",
    "#     \"DecisionTreeClassifier\": {\"max_depth\": [5, 10, 15, 20]},\n",
    "#     \"RandomForestClassifier\": {\"n_estimators\": [100, 200, 300], \"max_depth\": [10, 20, 30]},\n",
    "#     \"MultinomialNB\": {\"alpha\": [0.1, 0.5, 1]}\n",
    "# }\n",
    "\n",
    "# # Define the models\n",
    "# models = {\n",
    "#     \"LogisticRegression\": LogisticRegression(),\n",
    "#     \"DecisionTreeClassifier\": DecisionTreeClassifier(),\n",
    "#     \"RandomForestClassifier\": RandomForestClassifier(),\n",
    "#     \"MultinomialNB\": MultinomialNB()\n",
    "# }\n",
    "\n",
    "# # Perform hyperparameter tuning for each model\n",
    "# for model_name, model in models.items():\n",
    "#     clf = GridSearchCV(model, hyperparameters[model_name], cv=5)\n",
    "#     clf.fit(X_train, y_train)\n",
    "#     print(f\"Best parameters for {model_name}: {clf.best_params_}\")\n",
    "#     y_pred = clf.predict(X_test)\n",
    "#     print(f\"Classification report for {model_name}:\\n\")\n",
    "#     print(classification_report(y_test, y_pred))\n"
   ]
  },
  {
   "cell_type": "markdown",
   "metadata": {},
   "source": [
    "best paramter: \n",
    "Best parameters for LogisticRegression: {'C': 10} <br>\n",
    "Best parameters for DecisionTreeClassifier: {'max_depth': 20} <br>\n",
    "Best parameters for RandomForestClassifier: {'max_depth': 30, 'n_estimators': 300} <br>\n"
   ]
  },
  {
   "cell_type": "code",
   "execution_count": 15,
   "metadata": {},
   "outputs": [
    {
     "name": "stderr",
     "output_type": "stream",
     "text": [
      "/home/daro/.local/lib/python3.10/site-packages/sklearn/linear_model/_logistic.py:458: ConvergenceWarning: lbfgs failed to converge (status=1):\n",
      "STOP: TOTAL NO. of ITERATIONS REACHED LIMIT.\n",
      "\n",
      "Increase the number of iterations (max_iter) or scale the data as shown in:\n",
      "    https://scikit-learn.org/stable/modules/preprocessing.html\n",
      "Please also refer to the documentation for alternative solver options:\n",
      "    https://scikit-learn.org/stable/modules/linear_model.html#logistic-regression\n",
      "  n_iter_i = _check_optimize_result(\n"
     ]
    },
    {
     "name": "stdout",
     "output_type": "stream",
     "text": [
      "Classification Report for LogisticRegression:\n",
      "              precision    recall  f1-score   support\n",
      "\n",
      "           0       0.92      0.91      0.92      3845\n",
      "           1       0.92      0.92      0.92      4003\n",
      "\n",
      "    accuracy                           0.92      7848\n",
      "   macro avg       0.92      0.92      0.92      7848\n",
      "weighted avg       0.92      0.92      0.92      7848\n",
      "\n",
      "Classification Report for DecisionTreeClassifier:\n",
      "              precision    recall  f1-score   support\n",
      "\n",
      "           0       0.86      0.87      0.87      3845\n",
      "           1       0.88      0.87      0.87      4003\n",
      "\n",
      "    accuracy                           0.87      7848\n",
      "   macro avg       0.87      0.87      0.87      7848\n",
      "weighted avg       0.87      0.87      0.87      7848\n",
      "\n",
      "Classification Report for RandomForestClassifier:\n",
      "              precision    recall  f1-score   support\n",
      "\n",
      "           0       0.86      0.91      0.88      3845\n",
      "           1       0.91      0.86      0.88      4003\n",
      "\n",
      "    accuracy                           0.88      7848\n",
      "   macro avg       0.88      0.88      0.88      7848\n",
      "weighted avg       0.88      0.88      0.88      7848\n",
      "\n",
      "Classification Report for MultinomialNB:\n",
      "              precision    recall  f1-score   support\n",
      "\n",
      "           0       0.93      0.84      0.88      3845\n",
      "           1       0.86      0.94      0.90      4003\n",
      "\n",
      "    accuracy                           0.89      7848\n",
      "   macro avg       0.89      0.89      0.89      7848\n",
      "weighted avg       0.89      0.89      0.89      7848\n",
      "\n"
     ]
    }
   ],
   "source": [
    "from sklearn.metrics import classification_report\n",
    "\n",
    "# Initialize a dictionary to hold the trained models\n",
    "models = {\n",
    "    \"LogisticRegression\": LogisticRegression(C=10),\n",
    "    \"DecisionTreeClassifier\": DecisionTreeClassifier(max_depth=20),\n",
    "    \"RandomForestClassifier\": RandomForestClassifier(n_estimators=300, max_depth=30),\n",
    "    \"MultinomialNB\": MultinomialNB(alpha=1)  # Assuming alpha=1 is the best parameter for MultinomialNB\n",
    "}\n",
    "\n",
    "\n",
    "# Train and evaluate each model\n",
    "for model_name, model in models.items():\n",
    "    # Train the model\n",
    "    model.fit(X_train_features, y_train)\n",
    "    \n",
    "    # Make predictions on the test data\n",
    "    y_pred = model.predict(X_test_features)\n",
    "    \n",
    "    # Evaluate the model\n",
    "    print(f\"Classification Report for {model_name}:\")\n",
    "    print(classification_report(y_test, y_pred))\n"
   ]
  },
  {
   "cell_type": "code",
   "execution_count": 16,
   "metadata": {},
   "outputs": [],
   "source": [
    "def predict_review(model, reviews):\n",
    "    X_tfidf = vectorizer.transform(reviews)\n",
    "    \n",
    "    positive_word_count = [count_sentiment_words(review, positive_words) for review in reviews]\n",
    "    negative_word_count = [count_sentiment_words(review, negative_words) for review in reviews]\n",
    "    \n",
    "    # Combine the tf-idf features with the sentiment word count features\n",
    "    X = hstack([X_tfidf, np.array([positive_word_count, negative_word_count]).T])\n",
    "    \n",
    "    y_pred = model.predict(X)\n",
    "    y_prob = model.predict_proba(X)\n",
    "    \n",
    "    for review, pred, prob in zip(reviews, y_pred, y_prob):\n",
    "        sentiment = 'Positive' if pred == \"1\" else 'Negative'\n",
    "        print(f\"Review: {review} ({sentiment})\\nProbability (Negative, Positive): {prob}\\n\")\n"
   ]
  },
  {
   "cell_type": "code",
   "execution_count": 21,
   "metadata": {},
   "outputs": [
    {
     "name": "stdout",
     "output_type": "stream",
     "text": [
      "LogisticRegression Predictions:\n",
      "Review: Love this dress!  it's sooo pretty.  i happened to find it in a store, and i'm glad i did bc i never would have ordered it online bc it's petite.  i bought a petite and am 5'8\".  i love the length on me- hits just a little below the knee.  would definitely be a true midi on someone who is truly petite. (Positive)\n",
      "Probability (Negative, Positive): [0.26536162 0.73463838]\n",
      "\n",
      "Review: I had such high hopes for this dress and really wanted it to work for me. i initially ordered the petite small (my usual size) but i found this to be outrageously small. so small in fact that i could not zip it up! i reordered it in petite medium, which was just ok. overall, the top half was comfortable and fit nicely, but the bottom half had a very tight under layer and several somewhat cheap (net) over layers. imo, a major design flaw was the net over layer sewn directly into the zipper - it c (Negative)\n",
      "Probability (Negative, Positive): [0.78646953 0.21353047]\n",
      "\n",
      "Review: I love, love, love this jumpsuit. it's fun, flirty, and fabulous! every time i wear it, i get nothing but great compliments! (Positive)\n",
      "Probability (Negative, Positive): [0.00691642 0.99308358]\n",
      "\n",
      "Review: This shirt is very flattering to all due to the adjustable front tie. it is the perfect length to wear with leggings and it is sleeveless so it pairs well with any cardigan. love this shirt!!! (Positive)\n",
      "Probability (Negative, Positive): [0.00205706 0.99794294]\n",
      "\n",
      "Review: I love tracy reese dresses, but this one is not for the very petite. i am just under 5 feet tall and usually wear a 0p in this brand. this dress was very pretty out of the package but its a lot of dress. the skirt is long and very full so it overwhelmed my small frame. not a stranger to alterations, shortening and narrowing the skirt would take away from the embellishment of the garment. i love the color and the idea of the style but it just did not work on me. i returned this dress. (Positive)\n",
      "Probability (Negative, Positive): [0.01390701 0.98609299]\n",
      "\n",
      "Review: I aded this in my basket at hte last mintue to see what it would look like in person. (store pick up). i went with teh darkler color only because i am so pale :-) hte color is really gorgeous, and turns out it mathced everythiing i was trying on with it prefectly. it is a little baggy on me and hte xs is hte msallet size (bummer, no petite). i decided to jkeep it though, because as i said, it matvehd everything. my ejans, pants, and the 3 skirts i waas trying on (of which i ]kept all ) oops. (Negative)\n",
      "Probability (Negative, Positive): [0.91854318 0.08145682]\n",
      "\n",
      "Review: I ordered this in carbon for store pick up, and had a ton of stuff (as always) to try on and used this top to pair (skirts and pants). everything went with it. the color is really nice charcoal with shimmer, and went well with pencil skirts, flare pants, etc. my only compaint is it is a bit big, sleeves are long and it doesn't go in petite. also a bit loose for me, but no xxs... so i kept it and wil ldecide later since the light color is already sold out in hte smallest size... (Negative)\n",
      "Probability (Negative, Positive): [0.65267093 0.34732907]\n",
      "\n",
      "Review: I love this dress. i usually get an xs but it runs a little snug in bust so i ordered up a size. very flattering and feminine with the usual retailer flair for style. (Negative)\n",
      "Probability (Negative, Positive): [0.62342014 0.37657986]\n",
      "\n",
      "Review: I'm 5\"5' and 125 lbs. i ordered the s petite to make sure the length wasn't too long. i typically wear an xs regular in retailer dresses. if you're less busty (34b cup or smaller), a s petite will fit you perfectly (snug, but not tight). i love that i could dress it up for a party, or down for work. i love that the tulle is longer then the fabric underneath. (Positive)\n",
      "Probability (Negative, Positive): [0.02547436 0.97452564]\n",
      "\n",
      "Review: Dress runs small esp where the zipper area runs. i ordered the sp which typically fits me and it was very tight! the material on the top looks and feels very cheap that even just pulling on it will cause it to rip the fabric. pretty disappointed as it was going to be my christmas dress this year! needless to say it will be going back. (Negative)\n",
      "Probability (Negative, Positive): [0.99685444 0.00314556]\n",
      "\n",
      "Review: This dress is perfection! so pretty and flattering. (Negative)\n",
      "Probability (Negative, Positive): [0.64479623 0.35520377]\n",
      "\n",
      "Review: More and more i find myself reliant on the reviews written by savvy shoppers before me and for the most past, they are right on in their estimation of the product. in the case of this dress-if it had not been for the reveiws-i doubt i would have even tried this. the dress is beautifully made, lined and reminiscent of the old retailer quality. it is lined in the solid periwinkle-colored fabric that matches the outer fabric print. tts and very form-fitting. (Positive)\n",
      "Probability (Negative, Positive): [0.03502143 0.96497857]\n",
      "\n",
      "DecisionTreeClassifier Predictions:\n",
      "Review: Love this dress!  it's sooo pretty.  i happened to find it in a store, and i'm glad i did bc i never would have ordered it online bc it's petite.  i bought a petite and am 5'8\".  i love the length on me- hits just a little below the knee.  would definitely be a true midi on someone who is truly petite. (Negative)\n",
      "Probability (Negative, Positive): [1. 0.]\n",
      "\n",
      "Review: I had such high hopes for this dress and really wanted it to work for me. i initially ordered the petite small (my usual size) but i found this to be outrageously small. so small in fact that i could not zip it up! i reordered it in petite medium, which was just ok. overall, the top half was comfortable and fit nicely, but the bottom half had a very tight under layer and several somewhat cheap (net) over layers. imo, a major design flaw was the net over layer sewn directly into the zipper - it c (Negative)\n",
      "Probability (Negative, Positive): [1. 0.]\n",
      "\n",
      "Review: I love, love, love this jumpsuit. it's fun, flirty, and fabulous! every time i wear it, i get nothing but great compliments! (Positive)\n",
      "Probability (Negative, Positive): [0.0155648 0.9844352]\n",
      "\n",
      "Review: This shirt is very flattering to all due to the adjustable front tie. it is the perfect length to wear with leggings and it is sleeveless so it pairs well with any cardigan. love this shirt!!! (Positive)\n",
      "Probability (Negative, Positive): [0.0155648 0.9844352]\n",
      "\n",
      "Review: I love tracy reese dresses, but this one is not for the very petite. i am just under 5 feet tall and usually wear a 0p in this brand. this dress was very pretty out of the package but its a lot of dress. the skirt is long and very full so it overwhelmed my small frame. not a stranger to alterations, shortening and narrowing the skirt would take away from the embellishment of the garment. i love the color and the idea of the style but it just did not work on me. i returned this dress. (Positive)\n",
      "Probability (Negative, Positive): [0. 1.]\n",
      "\n",
      "Review: I aded this in my basket at hte last mintue to see what it would look like in person. (store pick up). i went with teh darkler color only because i am so pale :-) hte color is really gorgeous, and turns out it mathced everythiing i was trying on with it prefectly. it is a little baggy on me and hte xs is hte msallet size (bummer, no petite). i decided to jkeep it though, because as i said, it matvehd everything. my ejans, pants, and the 3 skirts i waas trying on (of which i ]kept all ) oops. (Negative)\n",
      "Probability (Negative, Positive): [1. 0.]\n",
      "\n",
      "Review: I ordered this in carbon for store pick up, and had a ton of stuff (as always) to try on and used this top to pair (skirts and pants). everything went with it. the color is really nice charcoal with shimmer, and went well with pencil skirts, flare pants, etc. my only compaint is it is a bit big, sleeves are long and it doesn't go in petite. also a bit loose for me, but no xxs... so i kept it and wil ldecide later since the light color is already sold out in hte smallest size... (Positive)\n",
      "Probability (Negative, Positive): [0. 1.]\n",
      "\n",
      "Review: I love this dress. i usually get an xs but it runs a little snug in bust so i ordered up a size. very flattering and feminine with the usual retailer flair for style. (Negative)\n",
      "Probability (Negative, Positive): [1. 0.]\n",
      "\n",
      "Review: I'm 5\"5' and 125 lbs. i ordered the s petite to make sure the length wasn't too long. i typically wear an xs regular in retailer dresses. if you're less busty (34b cup or smaller), a s petite will fit you perfectly (snug, but not tight). i love that i could dress it up for a party, or down for work. i love that the tulle is longer then the fabric underneath. (Negative)\n",
      "Probability (Negative, Positive): [1. 0.]\n",
      "\n",
      "Review: Dress runs small esp where the zipper area runs. i ordered the sp which typically fits me and it was very tight! the material on the top looks and feels very cheap that even just pulling on it will cause it to rip the fabric. pretty disappointed as it was going to be my christmas dress this year! needless to say it will be going back. (Negative)\n",
      "Probability (Negative, Positive): [1. 0.]\n",
      "\n",
      "Review: This dress is perfection! so pretty and flattering. (Positive)\n",
      "Probability (Negative, Positive): [0.21883408 0.78116592]\n",
      "\n",
      "Review: More and more i find myself reliant on the reviews written by savvy shoppers before me and for the most past, they are right on in their estimation of the product. in the case of this dress-if it had not been for the reveiws-i doubt i would have even tried this. the dress is beautifully made, lined and reminiscent of the old retailer quality. it is lined in the solid periwinkle-colored fabric that matches the outer fabric print. tts and very form-fitting. (Positive)\n",
      "Probability (Negative, Positive): [0. 1.]\n",
      "\n",
      "RandomForestClassifier Predictions:\n",
      "Review: Love this dress!  it's sooo pretty.  i happened to find it in a store, and i'm glad i did bc i never would have ordered it online bc it's petite.  i bought a petite and am 5'8\".  i love the length on me- hits just a little below the knee.  would definitely be a true midi on someone who is truly petite. (Negative)\n",
      "Probability (Negative, Positive): [0.53442512 0.46557488]\n",
      "\n",
      "Review: I had such high hopes for this dress and really wanted it to work for me. i initially ordered the petite small (my usual size) but i found this to be outrageously small. so small in fact that i could not zip it up! i reordered it in petite medium, which was just ok. overall, the top half was comfortable and fit nicely, but the bottom half had a very tight under layer and several somewhat cheap (net) over layers. imo, a major design flaw was the net over layer sewn directly into the zipper - it c (Negative)\n",
      "Probability (Negative, Positive): [0.53858294 0.46141706]\n",
      "\n",
      "Review: I love, love, love this jumpsuit. it's fun, flirty, and fabulous! every time i wear it, i get nothing but great compliments! (Positive)\n",
      "Probability (Negative, Positive): [0.43583588 0.56416412]\n",
      "\n",
      "Review: This shirt is very flattering to all due to the adjustable front tie. it is the perfect length to wear with leggings and it is sleeveless so it pairs well with any cardigan. love this shirt!!! (Positive)\n",
      "Probability (Negative, Positive): [0.46759343 0.53240657]\n",
      "\n",
      "Review: I love tracy reese dresses, but this one is not for the very petite. i am just under 5 feet tall and usually wear a 0p in this brand. this dress was very pretty out of the package but its a lot of dress. the skirt is long and very full so it overwhelmed my small frame. not a stranger to alterations, shortening and narrowing the skirt would take away from the embellishment of the garment. i love the color and the idea of the style but it just did not work on me. i returned this dress. (Negative)\n",
      "Probability (Negative, Positive): [0.51065613 0.48934387]\n",
      "\n",
      "Review: I aded this in my basket at hte last mintue to see what it would look like in person. (store pick up). i went with teh darkler color only because i am so pale :-) hte color is really gorgeous, and turns out it mathced everythiing i was trying on with it prefectly. it is a little baggy on me and hte xs is hte msallet size (bummer, no petite). i decided to jkeep it though, because as i said, it matvehd everything. my ejans, pants, and the 3 skirts i waas trying on (of which i ]kept all ) oops. (Negative)\n",
      "Probability (Negative, Positive): [0.52770161 0.47229839]\n",
      "\n",
      "Review: I ordered this in carbon for store pick up, and had a ton of stuff (as always) to try on and used this top to pair (skirts and pants). everything went with it. the color is really nice charcoal with shimmer, and went well with pencil skirts, flare pants, etc. my only compaint is it is a bit big, sleeves are long and it doesn't go in petite. also a bit loose for me, but no xxs... so i kept it and wil ldecide later since the light color is already sold out in hte smallest size... (Positive)\n",
      "Probability (Negative, Positive): [0.49846376 0.50153624]\n",
      "\n",
      "Review: I love this dress. i usually get an xs but it runs a little snug in bust so i ordered up a size. very flattering and feminine with the usual retailer flair for style. (Negative)\n",
      "Probability (Negative, Positive): [0.54062958 0.45937042]\n",
      "\n",
      "Review: I'm 5\"5' and 125 lbs. i ordered the s petite to make sure the length wasn't too long. i typically wear an xs regular in retailer dresses. if you're less busty (34b cup or smaller), a s petite will fit you perfectly (snug, but not tight). i love that i could dress it up for a party, or down for work. i love that the tulle is longer then the fabric underneath. (Negative)\n",
      "Probability (Negative, Positive): [0.50682015 0.49317985]\n",
      "\n",
      "Review: Dress runs small esp where the zipper area runs. i ordered the sp which typically fits me and it was very tight! the material on the top looks and feels very cheap that even just pulling on it will cause it to rip the fabric. pretty disappointed as it was going to be my christmas dress this year! needless to say it will be going back. (Negative)\n",
      "Probability (Negative, Positive): [0.53449137 0.46550863]\n",
      "\n",
      "Review: This dress is perfection! so pretty and flattering. (Positive)\n",
      "Probability (Negative, Positive): [0.48480112 0.51519888]\n",
      "\n",
      "Review: More and more i find myself reliant on the reviews written by savvy shoppers before me and for the most past, they are right on in their estimation of the product. in the case of this dress-if it had not been for the reveiws-i doubt i would have even tried this. the dress is beautifully made, lined and reminiscent of the old retailer quality. it is lined in the solid periwinkle-colored fabric that matches the outer fabric print. tts and very form-fitting. (Negative)\n",
      "Probability (Negative, Positive): [0.52230004 0.47769996]\n",
      "\n",
      "MultinomialNB Predictions:\n",
      "Review: Love this dress!  it's sooo pretty.  i happened to find it in a store, and i'm glad i did bc i never would have ordered it online bc it's petite.  i bought a petite and am 5'8\".  i love the length on me- hits just a little below the knee.  would definitely be a true midi on someone who is truly petite. (Positive)\n",
      "Probability (Negative, Positive): [0.0756107 0.9243893]\n",
      "\n",
      "Review: I had such high hopes for this dress and really wanted it to work for me. i initially ordered the petite small (my usual size) but i found this to be outrageously small. so small in fact that i could not zip it up! i reordered it in petite medium, which was just ok. overall, the top half was comfortable and fit nicely, but the bottom half had a very tight under layer and several somewhat cheap (net) over layers. imo, a major design flaw was the net over layer sewn directly into the zipper - it c (Negative)\n",
      "Probability (Negative, Positive): [0.94850702 0.05149298]\n",
      "\n",
      "Review: I love, love, love this jumpsuit. it's fun, flirty, and fabulous! every time i wear it, i get nothing but great compliments! (Positive)\n",
      "Probability (Negative, Positive): [0.0110087 0.9889913]\n",
      "\n",
      "Review: This shirt is very flattering to all due to the adjustable front tie. it is the perfect length to wear with leggings and it is sleeveless so it pairs well with any cardigan. love this shirt!!! (Positive)\n",
      "Probability (Negative, Positive): [2.31953618e-04 9.99768046e-01]\n",
      "\n",
      "Review: I love tracy reese dresses, but this one is not for the very petite. i am just under 5 feet tall and usually wear a 0p in this brand. this dress was very pretty out of the package but its a lot of dress. the skirt is long and very full so it overwhelmed my small frame. not a stranger to alterations, shortening and narrowing the skirt would take away from the embellishment of the garment. i love the color and the idea of the style but it just did not work on me. i returned this dress. (Positive)\n",
      "Probability (Negative, Positive): [0.05404588 0.94595412]\n",
      "\n",
      "Review: I aded this in my basket at hte last mintue to see what it would look like in person. (store pick up). i went with teh darkler color only because i am so pale :-) hte color is really gorgeous, and turns out it mathced everythiing i was trying on with it prefectly. it is a little baggy on me and hte xs is hte msallet size (bummer, no petite). i decided to jkeep it though, because as i said, it matvehd everything. my ejans, pants, and the 3 skirts i waas trying on (of which i ]kept all ) oops. (Negative)\n",
      "Probability (Negative, Positive): [0.91812192 0.08187808]\n",
      "\n",
      "Review: I ordered this in carbon for store pick up, and had a ton of stuff (as always) to try on and used this top to pair (skirts and pants). everything went with it. the color is really nice charcoal with shimmer, and went well with pencil skirts, flare pants, etc. my only compaint is it is a bit big, sleeves are long and it doesn't go in petite. also a bit loose for me, but no xxs... so i kept it and wil ldecide later since the light color is already sold out in hte smallest size... (Negative)\n",
      "Probability (Negative, Positive): [0.77711299 0.22288701]\n",
      "\n",
      "Review: I love this dress. i usually get an xs but it runs a little snug in bust so i ordered up a size. very flattering and feminine with the usual retailer flair for style. (Negative)\n",
      "Probability (Negative, Positive): [0.7678554 0.2321446]\n",
      "\n",
      "Review: I'm 5\"5' and 125 lbs. i ordered the s petite to make sure the length wasn't too long. i typically wear an xs regular in retailer dresses. if you're less busty (34b cup or smaller), a s petite will fit you perfectly (snug, but not tight). i love that i could dress it up for a party, or down for work. i love that the tulle is longer then the fabric underneath. (Positive)\n",
      "Probability (Negative, Positive): [0.02535308 0.97464692]\n",
      "\n",
      "Review: Dress runs small esp where the zipper area runs. i ordered the sp which typically fits me and it was very tight! the material on the top looks and feels very cheap that even just pulling on it will cause it to rip the fabric. pretty disappointed as it was going to be my christmas dress this year! needless to say it will be going back. (Negative)\n",
      "Probability (Negative, Positive): [0.99875129 0.00124871]\n",
      "\n",
      "Review: This dress is perfection! so pretty and flattering. (Positive)\n",
      "Probability (Negative, Positive): [0.11837152 0.88162848]\n",
      "\n",
      "Review: More and more i find myself reliant on the reviews written by savvy shoppers before me and for the most past, they are right on in their estimation of the product. in the case of this dress-if it had not been for the reveiws-i doubt i would have even tried this. the dress is beautifully made, lined and reminiscent of the old retailer quality. it is lined in the solid periwinkle-colored fabric that matches the outer fabric print. tts and very form-fitting. (Positive)\n",
      "Probability (Negative, Positive): [0.01250827 0.98749173]\n",
      "\n"
     ]
    }
   ],
   "source": [
    "reviews = [\n",
    "    \"Love this dress!  it's sooo pretty.  i happened to find it in a store, and i'm glad i did bc i never would have ordered it online bc it's petite.  i bought a petite and am 5'8\\\".  i love the length on me- hits just a little below the knee.  would definitely be a true midi on someone who is truly petite.\",\n",
    "    \"I had such high hopes for this dress and really wanted it to work for me. i initially ordered the petite small (my usual size) but i found this to be outrageously small. so small in fact that i could not zip it up! i reordered it in petite medium, which was just ok. overall, the top half was comfortable and fit nicely, but the bottom half had a very tight under layer and several somewhat cheap (net) over layers. imo, a major design flaw was the net over layer sewn directly into the zipper - it c\",\n",
    "    \"I love, love, love this jumpsuit. it's fun, flirty, and fabulous! every time i wear it, i get nothing but great compliments!\",\n",
    "    \"This shirt is very flattering to all due to the adjustable front tie. it is the perfect length to wear with leggings and it is sleeveless so it pairs well with any cardigan. love this shirt!!!\",\n",
    "    \"I love tracy reese dresses, but this one is not for the very petite. i am just under 5 feet tall and usually wear a 0p in this brand. this dress was very pretty out of the package but its a lot of dress. the skirt is long and very full so it overwhelmed my small frame. not a stranger to alterations, shortening and narrowing the skirt would take away from the embellishment of the garment. i love the color and the idea of the style but it just did not work on me. i returned this dress.\",\n",
    "    \"I aded this in my basket at hte last mintue to see what it would look like in person. (store pick up). i went with teh darkler color only because i am so pale :-) hte color is really gorgeous, and turns out it mathced everythiing i was trying on with it prefectly. it is a little baggy on me and hte xs is hte msallet size (bummer, no petite). i decided to jkeep it though, because as i said, it matvehd everything. my ejans, pants, and the 3 skirts i waas trying on (of which i ]kept all ) oops.\",\n",
    "    \"I ordered this in carbon for store pick up, and had a ton of stuff (as always) to try on and used this top to pair (skirts and pants). everything went with it. the color is really nice charcoal with shimmer, and went well with pencil skirts, flare pants, etc. my only compaint is it is a bit big, sleeves are long and it doesn't go in petite. also a bit loose for me, but no xxs... so i kept it and wil ldecide later since the light color is already sold out in hte smallest size...\",\n",
    "    \"I love this dress. i usually get an xs but it runs a little snug in bust so i ordered up a size. very flattering and feminine with the usual retailer flair for style.\",\n",
    "    \"I'm 5\\\"5' and 125 lbs. i ordered the s petite to make sure the length wasn't too long. i typically wear an xs regular in retailer dresses. if you're less busty (34b cup or smaller), a s petite will fit you perfectly (snug, but not tight). i love that i could dress it up for a party, or down for work. i love that the tulle is longer then the fabric underneath.\",\n",
    "    \"Dress runs small esp where the zipper area runs. i ordered the sp which typically fits me and it was very tight! the material on the top looks and feels very cheap that even just pulling on it will cause it to rip the fabric. pretty disappointed as it was going to be my christmas dress this year! needless to say it will be going back.\",\n",
    "    \"This dress is perfection! so pretty and flattering.\",\n",
    "    \"More and more i find myself reliant on the reviews written by savvy shoppers before me and for the most past, they are right on in their estimation of the product. in the case of this dress-if it had not been for the reveiws-i doubt i would have even tried this. the dress is beautifully made, lined and reminiscent of the old retailer quality. it is lined in the solid periwinkle-colored fabric that matches the outer fabric print. tts and very form-fitting.\"\n",
    "]\n",
    "\n",
    "\n",
    "# Predict the sentiment and probabilities for each model\n",
    "for model_name, model in models.items():\n",
    "    print(f\"{model_name} Predictions:\")\n",
    "    predict_review(model, reviews)\n",
    "    \n",
    "\n"
   ]
  },
  {
   "cell_type": "code",
   "execution_count": 18,
   "metadata": {},
   "outputs": [
    {
     "data": {
      "image/png": "[encoded data removed]",
      "text/plain": [
       "<Figure size 500x500 with 1 Axes>"
      ]
     },
     "metadata": {},
     "output_type": "display_data"
    },
    {
     "name": "stdout",
     "output_type": "stream",
     "text": [
      "True Positive (TP): 3696\n",
      "True Negative (TN): 3503\n",
      "False Positive (FP): 342\n",
      "False Negative (FN): 307\n"
     ]
    },
    {
     "data": {
      "image/png": "[encoded data removed]",
      "text/plain": [
       "<Figure size 500x500 with 1 Axes>"
      ]
     },
     "metadata": {},
     "output_type": "display_data"
    },
    {
     "name": "stdout",
     "output_type": "stream",
     "text": [
      "True Positive (TP): 3464\n",
      "True Negative (TN): 3356\n",
      "False Positive (FP): 489\n",
      "False Negative (FN): 539\n"
     ]
    },
    {
     "data": {
      "image/png": "[encoded data removed]",
      "text/plain": [
       "<Figure size 500x500 with 1 Axes>"
      ]
     },
     "metadata": {},
     "output_type": "display_data"
    },
    {
     "name": "stdout",
     "output_type": "stream",
     "text": [
      "True Positive (TP): 3436\n",
      "True Negative (TN): 3485\n",
      "False Positive (FP): 360\n",
      "False Negative (FN): 567\n"
     ]
    },
    {
     "data": {
      "image/png": "[encoded data removed]",
      "text/plain": [
       "<Figure size 500x500 with 1 Axes>"
      ]
     },
     "metadata": {},
     "output_type": "display_data"
    },
    {
     "name": "stdout",
     "output_type": "stream",
     "text": [
      "True Positive (TP): 3767\n",
      "True Negative (TN): 3212\n",
      "False Positive (FP): 633\n",
      "False Negative (FN): 236\n"
     ]
    }
   ],
   "source": [
    "from sklearn.metrics import confusion_matrix\n",
    "import seaborn as sns\n",
    "import matplotlib.pyplot as plt\n",
    "\n",
    "# Generate the confusion matrix for each model\n",
    "for model_name, model in models.items():\n",
    "    X_test_tfidf = vectorizer.transform(X_test['clean_review'])\n",
    "    \n",
    "    positive_word_count = X_test['clean_review'].apply(lambda review: count_sentiment_words(review, positive_words))\n",
    "    negative_word_count = X_test['clean_review'].apply(lambda review: count_sentiment_words(review, negative_words))\n",
    "    \n",
    "    X_test_features = hstack([X_test_tfidf, np.array([positive_word_count, negative_word_count]).T])\n",
    "    y_pred = model.predict(X_test_features)\n",
    "    \n",
    "    cm = confusion_matrix(y_test, y_pred)\n",
    "    plt.figure(figsize=(5, 5))\n",
    "    sns.heatmap(cm, annot=True, fmt=\"d\", cmap=\"Blues\", cbar=False, xticklabels=[\"Negative\", \"Positive\"], yticklabels=[\"Negative\", \"Positive\"])\n",
    "    plt.xlabel(\"Predicted\")\n",
    "    plt.ylabel(\"Actual\")\n",
    "    plt.title(f\"{model_name} Confusion Matrix\")\n",
    "    plt.show()\n",
    "\n",
    "    TN, FP, FN, TP = cm.ravel()\n",
    "    \n",
    "    print(f\"True Positive (TP): {TP}\")\n",
    "    print(f\"True Negative (TN): {TN}\")\n",
    "    print(f\"False Positive (FP): {FP}\")\n",
    "    print(f\"False Negative (FN): {FN}\")\n"
   ]
  }
 ],
 "metadata": {
  "kernelspec": {
   "display_name": "Python 3",
   "language": "python",
   "name": "python3"
  },
  "language_info": {
   "codemirror_mode": {
    "name": "ipython",
    "version": 3
   },
   "file_extension": ".py",
   "mimetype": "text/x-python",
   "name": "python",
   "nbconvert_exporter": "python",
   "pygments_lexer": "ipython3",
   "version": "3.10.12"
  }
 },
 "nbformat": 4,
 "nbformat_minor": 2
}
