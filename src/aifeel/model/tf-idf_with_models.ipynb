{
 "cells": [
  {
   "cell_type": "code",
   "execution_count": 1,
   "metadata": {},
   "outputs": [],
   "source": [
    "from aifeel.util import gen_dataframe, read_corpus\n",
    "from aifeel.util.preprocess import preprocess_text\n",
    "\n",
    "# Read the corpora and word lists\n",
    "negative_corpus, positive_corpus = read_corpus(\"negative-reviews\"), read_corpus(\"positive-reviews\")\n",
    "negative_words, positive_words = set(read_corpus(\"negative-words\")), set(read_corpus(\"positive-words\"))\n",
    "\n",
    "# Generate the dataframe and preprocess the reviews\n",
    "df = gen_dataframe(positive_corpus, negative_corpus, random_state=42)\n",
    "df[\"clean_review\"] = df[\"review\"].apply(preprocess_text)"
   ]
  },
  {
   "cell_type": "code",
   "execution_count": 2,
   "metadata": {},
   "outputs": [],
   "source": [
    "from sklearn.feature_extraction.text import TfidfVectorizer\n",
    "from sklearn.linear_model import LogisticRegression\n",
    "from sklearn.tree import DecisionTreeClassifier\n",
    "from sklearn.ensemble import RandomForestClassifier\n",
    "from sklearn.metrics import classification_report\n",
    "from sklearn.model_selection import train_test_split\n",
    "from sklearn.naive_bayes import MultinomialNB\n",
    "from sklearn.model_selection import GridSearchCV\n",
    "\n",
    "# Create a TfidfVectorizer object\n",
    "vectorizer = TfidfVectorizer()\n",
    "\n",
    "# Fit and transform the cleaned reviews\n",
    "X = vectorizer.fit_transform(df['clean_review'])\n",
    "y = df['tag']\n",
    "\n",
    "# Split the data into training and testing sets\n",
    "X_train, X_test, y_train, y_test = train_test_split(X, y, test_size=0.20, random_state=42)\n",
    "\n",
    "\n",
    "\n"
   ]
  },
  {
   "cell_type": "code",
   "execution_count": 3,
   "metadata": {},
   "outputs": [],
   "source": [
    "# # Define the hyperparameters\n",
    "# hyperparameters = {\n",
    "#     \"LogisticRegression\": {\"C\": [0.1, 1, 10, 100]},\n",
    "#     \"DecisionTreeClassifier\": {\"max_depth\": [5, 10, 15, 20]},\n",
    "#     \"RandomForestClassifier\": {\"n_estimators\": [100, 200, 300], \"max_depth\": [10, 20, 30]},\n",
    "#     \"MultinomialNB\": {\"alpha\": [0.1, 0.5, 1]}\n",
    "# }\n",
    "\n",
    "# # Define the models\n",
    "# models = {\n",
    "#     \"LogisticRegression\": LogisticRegression(),\n",
    "#     \"DecisionTreeClassifier\": DecisionTreeClassifier(),\n",
    "#     \"RandomForestClassifier\": RandomForestClassifier(),\n",
    "#     \"MultinomialNB\": MultinomialNB()\n",
    "# }\n",
    "\n",
    "# # Perform hyperparameter tuning for each model\n",
    "# for model_name, model in models.items():\n",
    "#     clf = GridSearchCV(model, hyperparameters[model_name], cv=5)\n",
    "#     clf.fit(X_train, y_train)\n",
    "#     print(f\"Best parameters for {model_name}: {clf.best_params_}\")\n",
    "#     y_pred = clf.predict(X_test)\n",
    "#     print(f\"Classification report for {model_name}:\\n\")\n",
    "#     print(classification_report(y_test, y_pred))\n"
   ]
  },
  {
   "cell_type": "markdown",
   "metadata": {},
   "source": [
    "best paramter: \n",
    "Best parameters for LogisticRegression: {'C': 10} <br>\n",
    "Best parameters for DecisionTreeClassifier: {'max_depth': 20} <br>\n",
    "Best parameters for RandomForestClassifier: {'max_depth': 30, 'n_estimators': 300} <br>\n"
   ]
  },
  {
   "cell_type": "code",
   "execution_count": 4,
   "metadata": {},
   "outputs": [
    {
     "name": "stderr",
     "output_type": "stream",
     "text": [
      "/home/daro/.local/lib/python3.10/site-packages/sklearn/linear_model/_logistic.py:458: ConvergenceWarning: lbfgs failed to converge (status=1):\n",
      "STOP: TOTAL NO. of ITERATIONS REACHED LIMIT.\n",
      "\n",
      "Increase the number of iterations (max_iter) or scale the data as shown in:\n",
      "    https://scikit-learn.org/stable/modules/preprocessing.html\n",
      "Please also refer to the documentation for alternative solver options:\n",
      "    https://scikit-learn.org/stable/modules/linear_model.html#logistic-regression\n",
      "  n_iter_i = _check_optimize_result(\n"
     ]
    },
    {
     "name": "stdout",
     "output_type": "stream",
     "text": [
      "Classification report for LogisticRegression:\n",
      "\n",
      "              precision    recall  f1-score   support\n",
      "\n",
      "           0       0.90      0.91      0.91      4003\n",
      "           1       0.91      0.90      0.91      3997\n",
      "\n",
      "    accuracy                           0.91      8000\n",
      "   macro avg       0.91      0.91      0.91      8000\n",
      "weighted avg       0.91      0.91      0.91      8000\n",
      "\n",
      "Classification report for DecisionTreeClassifier:\n",
      "\n",
      "              precision    recall  f1-score   support\n",
      "\n",
      "           0       0.80      0.89      0.84      4003\n",
      "           1       0.88      0.78      0.82      3997\n",
      "\n",
      "    accuracy                           0.83      8000\n",
      "   macro avg       0.84      0.83      0.83      8000\n",
      "weighted avg       0.84      0.83      0.83      8000\n",
      "\n",
      "Classification report for RandomForestClassifier:\n",
      "\n",
      "              precision    recall  f1-score   support\n",
      "\n",
      "           0       0.84      0.92      0.88      4003\n",
      "           1       0.92      0.82      0.87      3997\n",
      "\n",
      "    accuracy                           0.87      8000\n",
      "   macro avg       0.88      0.87      0.87      8000\n",
      "weighted avg       0.88      0.87      0.87      8000\n",
      "\n",
      "Classification report for MultinomialNB:\n",
      "\n",
      "              precision    recall  f1-score   support\n",
      "\n",
      "           0       0.91      0.88      0.90      4003\n",
      "           1       0.89      0.92      0.90      3997\n",
      "\n",
      "    accuracy                           0.90      8000\n",
      "   macro avg       0.90      0.90      0.90      8000\n",
      "weighted avg       0.90      0.90      0.90      8000\n",
      "\n"
     ]
    }
   ],
   "source": [
    "models = {\n",
    "    \"LogisticRegression\": LogisticRegression(C=10),\n",
    "    \"DecisionTreeClassifier\": DecisionTreeClassifier(max_depth=20),\n",
    "    \"RandomForestClassifier\": RandomForestClassifier(n_estimators=300, max_depth=30),\n",
    "    \"MultinomialNB\": MultinomialNB(alpha=1)  # Assuming alpha=1 is the best parameter for MultinomialNB\n",
    "}\n",
    "\n",
    "# Train the models and generate a classification report for each model\n",
    "for model_name, model in models.items():\n",
    "    model.fit(X_train, y_train)\n",
    "    y_pred = model.predict(X_test)\n",
    "    print(f\"Classification report for {model_name}:\\n\")\n",
    "    print(classification_report(y_test, y_pred))"
   ]
  },
  {
   "cell_type": "code",
   "execution_count": 6,
   "metadata": {},
   "outputs": [],
   "source": [
    "\n",
    "\n",
    "def predict_review(model, reviews):\n",
    "    # Transform the reviews to tf-idf vectors\n",
    "    X = vectorizer.transform(reviews)\n",
    "    # Predict the sentiment\n",
    "    y_pred = model.predict(X)\n",
    "    # Get the probabilities\n",
    "    y_prob = model.predict_proba(X)\n",
    "    # Print the predictions and probabilities\n",
    "    for review, pred, prob in zip(reviews, y_pred, y_prob):\n",
    "        sentiment = 'Positive' if pred == \"1\" else 'Negative'\n",
    "        print(f\"Review: {review} ({sentiment})\\nProbability (Negative, Positive): {prob}\\n\")"
   ]
  },
  {
   "cell_type": "code",
   "execution_count": 12,
   "metadata": {},
   "outputs": [
    {
     "name": "stdout",
     "output_type": "stream",
     "text": [
      "LogisticRegression Predictions:\n",
      "Review: lol bro that's awesome, where can i buy that shoes, tell me where bro ? (Negative)\n",
      "Probability (Negative, Positive): [0.89802956 0.10197044]\n",
      "\n",
      "DecisionTreeClassifier Predictions:\n",
      "Review: lol bro that's awesome, where can i buy that shoes, tell me where bro ? (Negative)\n",
      "Probability (Negative, Positive): [0.76603483 0.23396517]\n",
      "\n",
      "RandomForestClassifier Predictions:\n",
      "Review: lol bro that's awesome, where can i buy that shoes, tell me where bro ? (Negative)\n",
      "Probability (Negative, Positive): [0.52054229 0.47945771]\n",
      "\n",
      "MultinomialNB Predictions:\n",
      "Review: lol bro that's awesome, where can i buy that shoes, tell me where bro ? (Negative)\n",
      "Probability (Negative, Positive): [0.74515047 0.25484953]\n",
      "\n"
     ]
    }
   ],
   "source": [
    "reviews = [\"lol bro that's awesome, where can i buy that shoes, tell me where bro ?\"]\n",
    "# Predict the sentiment and probabilities for each model\n",
    "for model_name, model in models.items():\n",
    "    print(f\"{model_name} Predictions:\")\n",
    "    predict_review(model, reviews)"
   ]
  }
 ],
 "metadata": {
  "kernelspec": {
   "display_name": "Python 3",
   "language": "python",
   "name": "python3"
  },
  "language_info": {
   "codemirror_mode": {
    "name": "ipython",
    "version": 3
   },
   "file_extension": ".py",
   "mimetype": "text/x-python",
   "name": "python",
   "nbconvert_exporter": "python",
   "pygments_lexer": "ipython3",
   "version": "3.10.12"
  }
 },
 "nbformat": 4,
 "nbformat_minor": 2
}
